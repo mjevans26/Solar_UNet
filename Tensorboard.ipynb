{
  "cells": [
    {
      "cell_type": "code",
      "source": [
        "from azureml.tensorboard import Tensorboard\r\n",
        "from azureml.core import Experiment, Environment, Workspace, Datastore, Dataset, Model, ScriptRunConfig\r\n",
        "import os\r\n",
        "import glob\r\n",
        "# get the current workspace\r\n",
        "ws = Workspace.from_config()"
      ],
      "outputs": [],
      "execution_count": 1,
      "metadata": {
        "gather": {
          "logged": 1648739190271
        }
      }
    },
    {
      "cell_type": "code",
      "source": [
        "model = run.register_model(model_name='acd-unet-geeOnera',\r\n",
        "                           tags=run.tags,\r\n",
        "                           description = 'UNET model delineating anthropogenic land cover change in S2 imagery. Trained on GEE + Onera data.',\r\n",
        "                           model_path='outputs/',\r\n",
        "                           model_framework = 'Tensorflow',\r\n",
        "                           model_framework_version= '2.0',\r\n",
        "                           datasets = [('training', gee_train_dataset), ('evaluation', eval_dataset), ('testing', test_dataset)])\r\n",
        "print(model.name, model.id, model.version, sep='\\t')"
      ],
      "outputs": [],
      "execution_count": null,
      "metadata": {
        "collapsed": true,
        "jupyter": {
          "source_hidden": false,
          "outputs_hidden": false
        },
        "nteract": {
          "transient": {
            "deleting": false
          }
        }
      }
    },
    {
      "cell_type": "code",
      "source": [
        "# run_id = 'solar-nc-cpk_1638381140_a602c63e'\r\n",
        "\r\n",
        "# run = ws.get_run(run_id)\r\n",
        "\r\n",
        "# run.get_file_names()\r\n",
        "# The TensorBoard constructor takes an array of runs, so be sure and pass it in as a single-element array here\r\n",
        "# tb = Tensorboard([run])\r\n",
        "tb = Tensorboard([], local_root = f'{os.getcwd()}/logs', port = 6006)\r\n",
        "\r\n",
        "# If successful, start() returns a string with the URI of the instance.\r\n",
        "tb.start()"
      ],
      "outputs": [
        {
          "output_type": "stream",
          "name": "stdout",
          "text": "https://mevans1-6006.eastus.instances.azureml.ms\n"
        },
        {
          "output_type": "execute_result",
          "execution_count": 8,
          "data": {
            "text/plain": "'https://mevans1-6006.eastus.instances.azureml.ms'"
          },
          "metadata": {}
        }
      ],
      "execution_count": 8,
      "metadata": {
        "collapsed": true,
        "jupyter": {
          "source_hidden": false,
          "outputs_hidden": false
        },
        "nteract": {
          "transient": {
            "deleting": false
          }
        },
        "gather": {
          "logged": 1648739374862
        }
      }
    },
    {
      "cell_type": "code",
      "source": [
        "tb.stop()"
      ],
      "outputs": [],
      "execution_count": 7,
      "metadata": {
        "collapsed": true,
        "jupyter": {
          "source_hidden": false,
          "outputs_hidden": false
        },
        "nteract": {
          "transient": {
            "deleting": false
          }
        },
        "gather": {
          "logged": 1648739371516
        }
      }
    }
  ],
  "metadata": {
    "kernelspec": {
      "name": "python3-azureml",
      "language": "python",
      "display_name": "Python 3.6 - AzureML"
    },
    "language_info": {
      "name": "python",
      "version": "3.6.9",
      "mimetype": "text/x-python",
      "codemirror_mode": {
        "name": "ipython",
        "version": 3
      },
      "pygments_lexer": "ipython3",
      "nbconvert_exporter": "python",
      "file_extension": ".py"
    },
    "kernel_info": {
      "name": "python3-azureml"
    },
    "nteract": {
      "version": "nteract-front-end@1.0.0"
    },
    "microsoft": {
      "host": {
        "AzureML": {
          "notebookHasBeenCompleted": true
        }
      }
    }
  },
  "nbformat": 4,
  "nbformat_minor": 2
}