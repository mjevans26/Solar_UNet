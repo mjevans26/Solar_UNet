{
  "cells": [
    {
      "cell_type": "code",
      "source": [
        "from azureml.core import Experiment, Environment, Workspace, Datastore, Dataset, Model, ScriptRunConfig\n",
        "import os\n",
        "import glob\n",
        "# get the current workspace\n",
        "ws = Workspace.from_config()"
      ],
      "outputs": [],
      "execution_count": 9,
      "metadata": {
        "gather": {
          "logged": 1638378338753
        }
      }
    },
    {
      "cell_type": "code",
      "source": [
        "%cd Satellite_ComputerVision\n",
        "!git pull\n",
        "%cd .."
      ],
      "outputs": [
        {
          "output_type": "stream",
          "name": "stdout",
          "text": "Already up-to-date.\r\n/mnt/batch/tasks/shared/LS_root/mounts/clusters/test-compute-instance/code/Users/mevans\n"
        }
      ],
      "execution_count": 18,
      "metadata": {
        "collapsed": true,
        "jupyter": {
          "source_hidden": false,
          "outputs_hidden": false
        },
        "nteract": {
          "transient": {
            "deleting": false
          }
        }
      }
    },
    {
      "cell_type": "code",
      "source": [
        "# access our registered data share containing image data in this workspace\n",
        "datastore = Datastore.get(workspace = ws, datastore_name = 'solardatafilestore')\n",
        "\n",
        "cpk_train_path = (datastore, 'CPK_solar/training/')\n",
        "cpk_eval_path = (datastore, 'CPK_solar/eval/')\n",
        "\n",
        "nc_train_path = (datastore, 'NC_solar/training/')\n",
        "nc_eval_path = (datastore, 'NC_solar/eval/')\n",
        "\n",
        "test_path = (datastore, 'CPK_solar/predict/testpred5')\n",
        "\n",
        "# cpk_train_dataset = Dataset.File.from_files(path = [cpk_train_path])\n",
        "# cpk_eval_dataset = Dataset.File.from_files(path = [cpk_eval_path])\n",
        "\n",
        "# nc_train_dataset = Dataset.File.from_files(path = [nc_train_path])\n",
        "# nc_eval_dataset = Dataset.File.from_files(path = [nc_eval_path])\n",
        "\n",
        "# when we combine datasets the selected directories and relative paths to the datastore are brought in\n",
        "# mount folder\n",
        "# |-cddatafilestore\n",
        "# | |-GEE\n",
        "# | | |-training\n",
        "# | | |-eval\n",
        "# | |-Onera\n",
        "# | | |-training\n",
        "# | | |-eval\n",
        "train_dataset = Dataset.File.from_files(path = [cpk_train_path, nc_train_path])\n",
        "eval_dataset = Dataset.File.from_files(path = [cpk_eval_path, nc_eval_path])\n",
        "test_dataset = Dataset.File.from_files(path = [test_path])"
      ],
      "outputs": [],
      "execution_count": 10,
      "metadata": {
        "collapsed": true,
        "jupyter": {
          "source_hidden": false,
          "outputs_hidden": false
        },
        "nteract": {
          "transient": {
            "deleting": false
          }
        },
        "gather": {
          "logged": 1638378354914
        }
      }
    },
    {
      "cell_type": "code",
      "source": [
        "# FInd the run corresponding to the model we want to register\n",
        "run_id = 'solar-nc-cpk_1624989679_f59da7cf'\n",
        "\n",
        "run = ws.get_run(run_id)"
      ],
      "outputs": [],
      "execution_count": 3,
      "metadata": {
        "collapsed": true,
        "jupyter": {
          "source_hidden": false,
          "outputs_hidden": false
        },
        "nteract": {
          "transient": {
            "deleting": false
          }
        },
        "gather": {
          "logged": 1637721743359
        }
      }
    },
    {
      "cell_type": "code",
      "source": [
        "model_name = 'solar_Nov21'"
      ],
      "outputs": [],
      "execution_count": 11,
      "metadata": {
        "collapsed": true,
        "jupyter": {
          "source_hidden": false,
          "outputs_hidden": false
        },
        "nteract": {
          "transient": {
            "deleting": false
          }
        },
        "gather": {
          "logged": 1638378394414
        }
      }
    },
    {
      "cell_type": "code",
      "source": [
        "model = run.register_model(model_name=model_name,\n",
        "                           tags=run.tags,\n",
        "                           description = 'UNET model delineating ground mounted solar arrays in S2 imagery. Trained on multi-season data from Chesapeake Bay and NC',\n",
        "                           model_path='outputs/',\n",
        "                           model_framework = 'Tensorflow',\n",
        "                           model_framework_version= '2.0',\n",
        "                           datasets = [('training', train_dataset), ('evaluation', eval_dataset), ('testing', test_dataset)])\n",
        "print(model.name, model.id, model.version, sep='\\t')"
      ],
      "outputs": [
        {
          "output_type": "stream",
          "name": "stdout",
          "text": "solar\tsolar:1\t1\n"
        }
      ],
      "execution_count": 5,
      "metadata": {
        "collapsed": true,
        "jupyter": {
          "source_hidden": false,
          "outputs_hidden": false
        },
        "nteract": {
          "transient": {
            "deleting": false
          }
        },
        "gather": {
          "logged": 1625103322523
        }
      }
    },
    {
      "cell_type": "code",
      "source": [
        "# use the azure folder as our script folder\n",
        "source = 'Satellite_ComputerVision'\n",
        "util_folder = 'utils'\n",
        "script_folder = f'{source}/azure'\n",
        "script_file = 'train_solar.py'"
      ],
      "outputs": [],
      "execution_count": 17,
      "metadata": {
        "collapsed": true,
        "jupyter": {
          "source_hidden": false,
          "outputs_hidden": false
        },
        "nteract": {
          "transient": {
            "deleting": false
          }
        },
        "gather": {
          "logged": 1638378482125
        }
      }
    },
    {
      "cell_type": "code",
      "source": [
        "# get our environment\n",
        "envs = Environment.list(workspace = ws)\n",
        "env = envs.get('solar-training')"
      ],
      "outputs": [],
      "execution_count": 13,
      "metadata": {
        "collapsed": true,
        "jupyter": {
          "source_hidden": false,
          "outputs_hidden": false
        },
        "nteract": {
          "transient": {
            "deleting": false
          }
        },
        "gather": {
          "logged": 1638378416579
        }
      }
    },
    {
      "cell_type": "code",
      "source": [
        "# define the compute target\n",
        "compute_target = ws.compute_targets['mevans1']"
      ],
      "outputs": [],
      "execution_count": 14,
      "metadata": {
        "collapsed": true,
        "jupyter": {
          "source_hidden": false,
          "outputs_hidden": false
        },
        "nteract": {
          "transient": {
            "deleting": false
          }
        },
        "gather": {
          "logged": 1638378418660
        }
      }
    },
    {
      "cell_type": "code",
      "source": [
        "experiment_name = 'solar-nc-cpk'\n",
        "exp = Experiment(workspace = ws, name = experiment_name)"
      ],
      "outputs": [],
      "execution_count": 15,
      "metadata": {
        "collapsed": true,
        "jupyter": {
          "source_hidden": false,
          "outputs_hidden": false
        },
        "nteract": {
          "transient": {
            "deleting": false
          }
        },
        "gather": {
          "logged": 1638378420398
        }
      }
    },
    {
      "cell_type": "code",
      "source": [
        "args = [\n",
        "    '--train_data', train_dataset.as_mount(),\n",
        "    '--eval_data', eval_dataset.as_mount(),\n",
        "    '--test_data', test_dataset.as_mount(),\n",
        "    '--model_id', model_name,\n",
        "    '--weight', 0.7,\n",
        "    '-lr', 0.0005,\n",
        "    '--epochs', 50,\n",
        "    '--batch', 16,\n",
        "    '--size', 7755,\n",
        "    '--kernel_size', 256,\n",
        "    '--response', 'landcover']"
      ],
      "outputs": [],
      "execution_count": 16,
      "metadata": {
        "collapsed": true,
        "jupyter": {
          "source_hidden": false,
          "outputs_hidden": false
        },
        "nteract": {
          "transient": {
            "deleting": false
          }
        },
        "gather": {
          "logged": 1638378455879
        }
      }
    },
    {
      "cell_type": "code",
      "source": [
        "src = ScriptRunConfig(source_directory=script_folder,\n",
        "                      script=script_file, \n",
        "                      arguments=args,\n",
        "                      compute_target=compute_target,\n",
        "                      environment=env)"
      ],
      "outputs": [],
      "execution_count": 20,
      "metadata": {
        "collapsed": true,
        "jupyter": {
          "source_hidden": false,
          "outputs_hidden": false
        },
        "nteract": {
          "transient": {
            "deleting": false
          }
        },
        "gather": {
          "logged": 1638381137340
        }
      }
    },
    {
      "cell_type": "code",
      "source": [
        "#  run the training job\n",
        "run = exp.submit(config=src, tags = dict({'splits':'None', 'model':'Unet', 'dataset':'CPK+NC', 'normalization':'pixel', 'epochs':'100-150'}))\n",
        "run"
      ],
      "outputs": [
        {
          "output_type": "execute_result",
          "execution_count": 21,
          "data": {
            "text/plain": "Run(Experiment: solar-nc-cpk,\nId: solar-nc-cpk_1638381140_a602c63e,\nType: azureml.scriptrun,\nStatus: Preparing)",
            "text/html": "<table style=\"width:100%\"><tr><th>Experiment</th><th>Id</th><th>Type</th><th>Status</th><th>Details Page</th><th>Docs Page</th></tr><tr><td>solar-nc-cpk</td><td>solar-nc-cpk_1638381140_a602c63e</td><td>azureml.scriptrun</td><td>Preparing</td><td><a href=\"https://ml.azure.com/experiments/solar-nc-cpk/runs/solar-nc-cpk_1638381140_a602c63e?wsid=/subscriptions/c394ca90-7d39-44ca-902d-a857ca6258cf/resourcegroups/PLACE/workspaces/solar-compviz\" target=\"_blank\" rel=\"noopener\">Link to Azure Machine Learning studio</a></td><td><a href=\"https://docs.microsoft.com/en-us/python/api/azureml-core/azureml.core.script_run.ScriptRun?view=azure-ml-py\" target=\"_blank\" rel=\"noopener\">Link to Documentation</a></td></tr></table>"
          },
          "metadata": {}
        }
      ],
      "execution_count": 21,
      "metadata": {
        "collapsed": true,
        "jupyter": {
          "source_hidden": false,
          "outputs_hidden": false
        },
        "nteract": {
          "transient": {
            "deleting": false
          }
        },
        "gather": {
          "logged": 1638381147221
        }
      }
    }
  ],
  "metadata": {
    "kernelspec": {
      "name": "python3-azureml",
      "language": "python",
      "display_name": "Python 3.6 - AzureML"
    },
    "language_info": {
      "name": "python",
      "version": "3.6.9",
      "mimetype": "text/x-python",
      "codemirror_mode": {
        "name": "ipython",
        "version": 3
      },
      "pygments_lexer": "ipython3",
      "nbconvert_exporter": "python",
      "file_extension": ".py"
    },
    "kernel_info": {
      "name": "python3-azureml"
    },
    "microsoft": {
      "host": {
        "AzureML": {
          "notebookHasBeenCompleted": true
        }
      }
    },
    "nteract": {
      "version": "nteract-front-end@1.0.0"
    }
  },
  "nbformat": 4,
  "nbformat_minor": 2
}