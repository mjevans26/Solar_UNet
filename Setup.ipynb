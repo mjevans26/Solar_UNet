{
  "cells": [
    {
      "cell_type": "code",
      "source": [
        "import azureml.core\r\n",
        "from azureml.core import Experiment, Environment, Workspace, Dataset, Datastore, ScriptRunConfig\r\n",
        "from azureml.core.conda_dependencies import CondaDependencies\r\n",
        "import os\r\n",
        "import shutil\r\n",
        "\r\n",
        "# check core SDK version number\r\n",
        "\r\n",
        "print(\"Azure ML SDK Version: \", azureml.core.VERSION)"
      ],
      "outputs": [
        {
          "output_type": "stream",
          "name": "stdout",
          "text": "Azure ML SDK Version:  1.44.0\n"
        }
      ],
      "execution_count": 4,
      "metadata": {
        "gather": {
          "logged": 1668617207337
        }
      }
    },
    {
      "cell_type": "code",
      "source": [
        "# load workspace configuration from the config.json file in the current folder.\r\n",
        "ws = Workspace.from_config()\r\n",
        "# get metadata about the workspace\r\n",
        "print(ws.name, ws.location, ws.resource_group, sep='\\t')\r\n",
        "# list the registered datastores\r\n",
        "ws.datastores"
      ],
      "outputs": [
        {
          "output_type": "stream",
          "name": "stdout",
          "text": "landcover-ai\teastus\tcic_ai\n"
        },
        {
          "output_type": "execute_result",
          "execution_count": 6,
          "data": {
            "text/plain": "{'solardatablob': {\n   \"name\": \"solardatablob\",\n   \"container_name\": \"solar\",\n   \"account_name\": \"aiprojects\",\n   \"protocol\": \"https\",\n   \"endpoint\": \"core.windows.net\"\n },\n 'animalopsblobstore2': {\n   \"name\": \"animalopsblobstore2\",\n   \"container_name\": \"animal-ops\",\n   \"account_name\": \"aiprojects\",\n   \"protocol\": \"https\",\n   \"endpoint\": \"core.windows.net\"\n },\n 'animalopsblobstore': {\n   \"name\": \"animalopsblobstore\",\n   \"container_name\": \"animal-ops\",\n   \"account_name\": \"aiprojects\",\n   \"protocol\": \"https\",\n   \"endpoint\": \"core.windows.net\"\n },\n 'workspacefilestore': {\n   \"name\": \"workspacefilestore\",\n   \"container_name\": \"azureml-filestore-0b767baf-fb3d-4e08-a2d6-663739db0e23\",\n   \"account_name\": \"aiprojects\",\n   \"protocol\": \"https\",\n   \"endpoint\": \"core.windows.net\"\n },\n 'workspaceworkingdirectory': {\n   \"name\": \"workspaceworkingdirectory\",\n   \"container_name\": \"code-391ff5ac-6576-460f-ba4d-7e03433c68b6\",\n   \"account_name\": \"aiprojects\",\n   \"protocol\": \"https\",\n   \"endpoint\": \"core.windows.net\"\n },\n 'workspaceartifactstore': {\n   \"name\": \"workspaceartifactstore\",\n   \"container_name\": \"azureml\",\n   \"account_name\": \"aiprojects\",\n   \"protocol\": \"https\",\n   \"endpoint\": \"core.windows.net\"\n },\n 'workspaceblobstore': {\n   \"name\": \"workspaceblobstore\",\n   \"container_name\": \"azureml-blobstore-0b767baf-fb3d-4e08-a2d6-663739db0e23\",\n   \"account_name\": \"aiprojects\",\n   \"protocol\": \"https\",\n   \"endpoint\": \"core.windows.net\"\n }}"
          },
          "metadata": {}
        }
      ],
      "execution_count": 6,
      "metadata": {
        "collapsed": true,
        "jupyter": {
          "source_hidden": false,
          "outputs_hidden": false
        },
        "nteract": {
          "transient": {
            "deleting": false
          }
        },
        "gather": {
          "logged": 1668617220821
        }
      }
    },
    {
      "cell_type": "code",
      "source": [
        "datastore = Datastore.get(workspace = ws, datastore_name = 'solardatablob')\r\n",
        "datastore.unregister()"
      ],
      "outputs": [],
      "execution_count": 5,
      "metadata": {
        "jupyter": {
          "source_hidden": false,
          "outputs_hidden": false
        },
        "nteract": {
          "transient": {
            "deleting": false
          }
        },
        "gather": {
          "logged": 1668463545304
        }
      }
    },
    {
      "cell_type": "code",
      "source": [
        "# register our data share containing image data in this workspace\r\n",
        "Datastore.register_azure_blob_container(\r\n",
        "    account_key = 'sZ/bw2Viouyp/C0Duhboamqx5VDXNtAm2fyYzrucLsUNk5nQXkvURAMnBeehMiL1xE+LEMTRBeaq+AStNkzzkQ==',\r\n",
        "    workspace = ws,\r\n",
        "    datastore_name = 'solarDataBlob',\r\n",
        "    container_name = 'solar',\r\n",
        "    account_name = 'aiprojects')"
      ],
      "outputs": [
        {
          "output_type": "stream",
          "name": "stderr",
          "text": "Datastore name solarDataBlob contains capital letters. They will be converted to lowercase letters.\n"
        },
        {
          "output_type": "execute_result",
          "execution_count": 8,
          "data": {
            "text/plain": "{\n  \"name\": \"solardatablob\",\n  \"container_name\": \"solar\",\n  \"account_name\": \"aiprojects\",\n  \"protocol\": \"https\",\n  \"endpoint\": \"core.windows.net\"\n}"
          },
          "metadata": {}
        }
      ],
      "execution_count": 8,
      "metadata": {
        "collapsed": true,
        "jupyter": {
          "source_hidden": false,
          "outputs_hidden": false
        },
        "nteract": {
          "transient": {
            "deleting": false
          }
        },
        "gather": {
          "logged": 1668463968153
        }
      }
    },
    {
      "cell_type": "code",
      "source": [
        "# create a file dataset that can be used in training\r\n",
        "datastore = Datastore.get(workspace = ws, datastore_name = 'solardatablob')\r\n",
        "datastore_paths = [(datastore, 'CPK_solar'), (datastore, 'NC_solar')]\r\n",
        "cpk_dataset = Dataset.File.from_files(path = datastore_paths[0])\r\n",
        "nc_dataset = Dataset.File.from_files(path = datastore_paths[1])\r\n",
        "\r\n",
        "cpk_dataset = cpk_dataset.register(\r\n",
        "    workspace=ws,\r\n",
        "    name='gee-cpk-solar-data',\r\n",
        "    description='training and eval TFRecords for solar arrays exported from GEE',\r\n",
        "    create_new_version=True)\r\n",
        "\r\n",
        "nc_dataset = nc_dataset.register(\r\n",
        "    workspace=ws,\r\n",
        "    name='gee-nc-solar-data',\r\n",
        "    description='training and eval TFRecords for solar arrays exported from GEE',\r\n",
        "    create_new_version=True)"
      ],
      "outputs": [],
      "execution_count": null,
      "metadata": {
        "collapsed": true,
        "jupyter": {
          "source_hidden": false,
          "outputs_hidden": false
        },
        "nteract": {
          "transient": {
            "deleting": false
          }
        },
        "gather": {
          "logged": 1642800766789
        }
      }
    },
    {
      "cell_type": "code",
      "source": [],
      "outputs": [],
      "execution_count": null,
      "metadata": {
        "jupyter": {
          "source_hidden": false,
          "outputs_hidden": false
        },
        "nteract": {
          "transient": {
            "deleting": false
          }
        }
      }
    },
    {
      "cell_type": "markdown",
      "source": [
        "## Environments"
      ],
      "metadata": {
        "nteract": {
          "transient": {
            "deleting": false
          }
        }
      }
    },
    {
      "cell_type": "code",
      "source": [
        "envs = Environment.list(workspace=ws)\r\n",
        "\r\n",
        "for env in envs:\r\n",
        "    if env.startswith(\"AzureML\"):\r\n",
        "        print(\"Name\",env)"
      ],
      "outputs": [
        {
          "output_type": "stream",
          "name": "stdout",
          "text": "Name AzureML-responsibleai-0.20-ubuntu20.04-py38-cpu\nName AzureML-responsibleai-0.21-ubuntu20.04-py38-cpu\nName AzureML-PTA-pytorch-1.11-py38-cuda11.3-gpu\nName AzureML-PTA-pytorch-1.11-py38-cuda11.5-gpu\nName AzureML-sklearn-1.0-ubuntu20.04-py38-cpu\nName AzureML-tensorflow-2.6-ubuntu20.04-py38-cuda11-gpu\nName AzureML-tensorflow-2.5-ubuntu20.04-py38-cuda11-gpu\nName AzureML-tensorflow-2.7-ubuntu20.04-py38-cuda11-gpu\nName AzureML-ACPT-pytorch-1.11-py38-cuda11.3-gpu\nName AzureML-ACPT-pytorch-1.11-py38-cuda11.5-gpu\nName AzureML-pytorch-1.10-ubuntu18.04-py38-cuda11-gpu\nName AzureML-ACPT-pytorch-1.12-py39-cuda11.6-gpu\nName AzureML-ACPT-pytorch-1.12-py38-cuda11.6-gpu\nName AzureML-minimal-ubuntu18.04-py37-cuda11.0.3-gpu-inference\nName AzureML-lightgbm-3.2-ubuntu18.04-py37-cpu\nName AzureML-sklearn-0.24-ubuntu18.04-py37-cpu\nName AzureML-tensorflow-2.4-ubuntu18.04-py37-cuda11-gpu\nName AzureML-pytorch-1.7-ubuntu18.04-py37-cuda11-gpu\nName AzureML-pytorch-1.8-ubuntu18.04-py37-cuda11-gpu\nName AzureML-pytorch-1.9-ubuntu18.04-py37-cuda11-gpu\nName AzureML-minimal-ubuntu18.04-py37-cpu-inference\nName AzureML-VowpalWabbit-8.8.0\nName AzureML-PyTorch-1.3-CPU\nName AzureML-Triton\n"
        }
      ],
      "execution_count": 7,
      "metadata": {
        "jupyter": {
          "source_hidden": false,
          "outputs_hidden": false
        },
        "nteract": {
          "transient": {
            "deleting": false
          }
        },
        "gather": {
          "logged": 1668617225810
        }
      }
    },
    {
      "cell_type": "code",
      "source": [
        "base_env = envs.get('AzureML-tensorflow-2.4-ubuntu18.04-py37-cuda11-gpu')\r\n",
        "base_env"
      ],
      "outputs": [],
      "execution_count": null,
      "metadata": {
        "jupyter": {
          "source_hidden": false,
          "outputs_hidden": false
        },
        "nteract": {
          "transient": {
            "deleting": false
          }
        },
        "gather": {
          "logged": 1668617330232
        }
      }
    },
    {
      "cell_type": "code",
      "source": [
        "!pwd"
      ],
      "outputs": [
        {
          "output_type": "stream",
          "name": "stdout",
          "text": "/mnt/batch/tasks/shared/LS_root/mounts/clusters/mevans1/code/Users/mevans/Solar_UNet\r\n"
        }
      ],
      "execution_count": 27,
      "metadata": {
        "jupyter": {
          "source_hidden": false,
          "outputs_hidden": false
        },
        "nteract": {
          "transient": {
            "deleting": false
          }
        }
      }
    },
    {
      "cell_type": "code",
      "source": [
        "env_docker_conda = Environment(\r\n",
        "    image=\"mcr.microsoft.com/azureml/openmpi4.1.0-cuda11.0.3-cudnn8-ubuntu18.04:20221010.v1\",\r\n",
        "    conda_file=\"/mnt/batch/tasks/shared/LS_root/mounts/clusters/mevans1/code/Users/mevans/Solar_UNet/envs/conda_env.yml\",\r\n",
        "    name=\"solar-training\",\r\n",
        "    description=\"Environment created from a Docker image plus Conda environment.\",\r\n",
        ")\r\n",
        "\r\n"
      ],
      "outputs": [],
      "execution_count": 34,
      "metadata": {
        "jupyter": {
          "source_hidden": false,
          "outputs_hidden": false
        },
        "nteract": {
          "transient": {
            "deleting": false
          }
        },
        "gather": {
          "logged": 1668620052885
        }
      }
    },
    {
      "cell_type": "code",
      "source": [
        "env_docker_conda"
      ],
      "outputs": [
        {
          "output_type": "execute_result",
          "execution_count": 35,
          "data": {
            "text/plain": "{\n    \"assetId\": null,\n    \"databricks\": {\n        \"eggLibraries\": [],\n        \"jarLibraries\": [],\n        \"mavenLibraries\": [],\n        \"pypiLibraries\": [],\n        \"rcranLibraries\": []\n    },\n    \"docker\": {\n        \"arguments\": [],\n        \"baseDockerfile\": null,\n        \"baseImage\": \"mcr.microsoft.com/azureml/openmpi4.1.0-ubuntu20.04:20220708.v1\",\n        \"baseImageRegistry\": {\n            \"address\": null,\n            \"password\": null,\n            \"registryIdentity\": null,\n            \"username\": null\n        },\n        \"buildContext\": null,\n        \"enabled\": false,\n        \"platform\": {\n            \"architecture\": \"amd64\",\n            \"os\": \"Linux\"\n        },\n        \"sharedVolumes\": true,\n        \"shmSize\": \"2g\"\n    },\n    \"environmentVariables\": {\n        \"EXAMPLE_ENV_VAR\": \"EXAMPLE_VALUE\"\n    },\n    \"inferencingStackVersion\": null,\n    \"name\": \"solar-training\",\n    \"python\": {\n        \"baseCondaEnvironment\": null,\n        \"condaDependencies\": {\n            \"channels\": [\n                \"anaconda\",\n                \"conda-forge\"\n            ],\n            \"dependencies\": [\n                \"python=3.8.13\",\n                {\n                    \"pip\": [\n                        \"azureml-defaults\"\n                    ]\n                }\n            ],\n            \"name\": \"project_environment\"\n        },\n        \"condaDependenciesFile\": null,\n        \"interpreterPath\": \"python\",\n        \"userManagedDependencies\": false\n    },\n    \"r\": null,\n    \"spark\": {\n        \"packages\": [],\n        \"precachePackages\": true,\n        \"repositories\": []\n    },\n    \"version\": null\n}"
          },
          "metadata": {}
        }
      ],
      "execution_count": 35,
      "metadata": {
        "jupyter": {
          "source_hidden": false,
          "outputs_hidden": false
        },
        "nteract": {
          "transient": {
            "deleting": false
          }
        },
        "gather": {
          "logged": 1668620058108
        }
      }
    },
    {
      "cell_type": "code",
      "source": [
        "base_env.name = 'solar-training'\r\n",
        "base_env.register(ws)"
      ],
      "outputs": [
        {
          "output_type": "stream",
          "name": "stderr",
          "text": "Environment version is set. Attempting to register desired version. To auto-version, reset version to None.\n"
        },
        {
          "output_type": "execute_result",
          "execution_count": 21,
          "data": {
            "text/plain": "{\n    \"assetId\": \"azureml://locations/eastus/workspaces/0b767baf-fb3d-4e08-a2d6-663739db0e23/environments/solar-training/versions/50\",\n    \"databricks\": {\n        \"eggLibraries\": [],\n        \"jarLibraries\": [],\n        \"mavenLibraries\": [],\n        \"pypiLibraries\": [],\n        \"rcranLibraries\": []\n    },\n    \"docker\": {\n        \"arguments\": [],\n        \"baseDockerfile\": \"FROM mcr.microsoft.com/azureml/openmpi4.1.0-cuda11.0.3-cudnn8-ubuntu18.04:20221010.v1\\n\\nENV AZUREML_CONDA_ENVIRONMENT_PATH /azureml-envs/tensorflow-2.4\\n# Create conda environment\\nRUN conda create -p $AZUREML_CONDA_ENVIRONMENT_PATH \\\\\\n    python=3.7 pip=20.2.4\\n\\n# Prepend path to AzureML conda environment\\nENV PATH $AZUREML_CONDA_ENVIRONMENT_PATH/bin:$PATH\\n\\n# Install pip dependencies\\nRUN HOROVOD_WITH_TENSORFLOW=1 \\\\\\n    pip install 'matplotlib>=3.3,<3.4' \\\\\\n                'psutil>=5.8,<5.9' \\\\\\n                'tqdm>=4.59,<4.60' \\\\\\n                'pandas>=1.1,<1.2' \\\\\\n                'scipy>=1.5,<1.6' \\\\\\n                'numpy>=1.10,<1.20' \\\\\\n                'ipykernel~=6.0' \\\\\\n                # upper bound azure-core to address typing-extensions conflict\\n                'azure-core<1.23.0' \\\\\\n                'azureml-core~=1.43.0' \\\\\\n                'azureml-defaults~=1.43.0' \\\\\\n                'azureml-mlflow~=1.43.0' \\\\\\n                'azureml-telemetry~=1.43.0' \\\\\\n                'tensorboard==2.4.0' \\\\\\n                'tensorflow-gpu==2.4.1' \\\\\\n                'tensorflow-datasets==4.3.0' \\\\\\n                'onnxruntime-gpu>=1.7,<1.8' \\\\\\n                'protobuf~=3.20' \\\\\\n                'horovod[tensorflow-gpu]==0.21.3' \\\\\\n                'debugpy~=1.6.3'\\n\\n# This is needed for mpi to locate libpython\\nENV LD_LIBRARY_PATH $AZUREML_CONDA_ENVIRONMENT_PATH/lib:$LD_LIBRARY_PATH\\n\",\n        \"baseImage\": null,\n        \"baseImageRegistry\": {\n            \"address\": null,\n            \"password\": null,\n            \"registryIdentity\": null,\n            \"username\": null\n        },\n        \"buildContext\": null,\n        \"enabled\": false,\n        \"platform\": {\n            \"architecture\": \"amd64\",\n            \"os\": \"Linux\"\n        },\n        \"sharedVolumes\": true,\n        \"shmSize\": null\n    },\n    \"environmentVariables\": {\n        \"EXAMPLE_ENV_VAR\": \"EXAMPLE_VALUE\"\n    },\n    \"inferencingStackVersion\": null,\n    \"name\": \"solar-training\",\n    \"python\": {\n        \"baseCondaEnvironment\": null,\n        \"condaDependenciesFile\": null,\n        \"interpreterPath\": \"python\",\n        \"userManagedDependencies\": true\n    },\n    \"r\": null,\n    \"spark\": {\n        \"packages\": [],\n        \"precachePackages\": true,\n        \"repositories\": []\n    },\n    \"version\": \"50\"\n}"
          },
          "metadata": {}
        }
      ],
      "execution_count": 21,
      "metadata": {
        "jupyter": {
          "source_hidden": false,
          "outputs_hidden": false
        },
        "nteract": {
          "transient": {
            "deleting": false
          }
        },
        "gather": {
          "logged": 1668617840822
        }
      }
    },
    {
      "cell_type": "code",
      "source": [
        "# create an environment for the first time\r\n",
        "\r\n",
        "envs = Environment.list(workspace = ws)\r\n",
        "# well start with a pre-built tensorflow environment\r\n",
        "env = envs.get('AzureML-TensorFlow-2.3-GPU')\r\n",
        "env\r\n",
        "\r\n",
        "# define packages to be installed using CondaDependencies\r\n",
        "# get the packages that are already part of the pre-built environment\r\n",
        "conda_dep = env.python.conda_dependencies\r\n",
        "# list packages to install\r\n",
        "pip_packages = ['matplotlib', 'rasterio', 'tensorboard']\r\n",
        "\r\n",
        "# add each package to the existing conda dependencies\r\n",
        "for package in pip_packages:\r\n",
        "    conda_dep.add_pip_package(package)\r\n",
        "\r\n",
        "# double check all the packages are there\r\n",
        "conda_dep.serialize_to_string()\r\n",
        "# conda_dep = CondaDependencies.create(\r\n",
        "#     pip_packages=pip_packages)\r\n",
        "\r\n",
        "# Now update the conda dependencies of the python environment\r\n",
        "env.python.conda_dependencies=conda_dep\r\n",
        "\r\n",
        "# # Register environment to re-use later\r\n",
        "env.name = 'solar-training'\r\n",
        "env.register(workspace = ws)"
      ],
      "outputs": [],
      "execution_count": null,
      "metadata": {
        "collapsed": true,
        "jupyter": {
          "source_hidden": false,
          "outputs_hidden": false
        },
        "nteract": {
          "transient": {
            "deleting": false
          }
        },
        "gather": {
          "logged": 1622223971377
        }
      }
    },
    {
      "cell_type": "code",
      "source": [
        "envs = Environment.list(workspace = ws)\r\n",
        "# well start with a pre-built tensorflow environment\r\n",
        "env = envs.get('AzureML-tensorflow-2.4-ubuntu18.04-py37-cuda11-gpu')\r\n",
        "# env\r\n",
        "solar_env = env.clone('test')\r\n",
        "conda_dep = CondaDependencies()\r\n",
        "# list packages to install\r\n",
        "pip_packages = ['matplotlib', 'tensorboard']\r\n",
        "\r\n",
        "# add each package to the existing conda dependencies\r\n",
        "for package in pip_packages:\r\n",
        "    conda_dep.add_pip_package(package)\r\n",
        "\r\n",
        "conda_dep.add_conda_package('rasterio')\r\n",
        "\r\n",
        "solar_env.python.conda_dependencies=conda_dep\r\n",
        "\r\n",
        "# # Register environment to re-use later\r\n",
        "solar_env.name = 'test'\r\n",
        "solar_env.register(workspace = ws)"
      ],
      "outputs": [
        {
          "output_type": "execute_result",
          "execution_count": 25,
          "data": {
            "text/plain": "{\n    \"databricks\": {\n        \"eggLibraries\": [],\n        \"jarLibraries\": [],\n        \"mavenLibraries\": [],\n        \"pypiLibraries\": [],\n        \"rcranLibraries\": []\n    },\n    \"docker\": {\n        \"arguments\": [],\n        \"baseDockerfile\": \"FROM mcr.microsoft.com/azureml/openmpi4.1.0-cuda11.0.3-cudnn8-ubuntu18.04:20220113.v1\\n\\nENV AZUREML_CONDA_ENVIRONMENT_PATH /azureml-envs/tensorflow-2.4\\n\\n# Create conda environment\\nRUN conda create -p $AZUREML_CONDA_ENVIRONMENT_PATH \\\\\\n    python=3.7 pip=20.2.4\\n\\n# Prepend path to AzureML conda environment\\nENV PATH $AZUREML_CONDA_ENVIRONMENT_PATH/bin:$PATH\\n\\n# Install pip dependencies\\nRUN HOROVOD_WITH_TENSORFLOW=1 \\\\\\n    pip install 'matplotlib>=3.3,<3.4' \\\\\\n                'psutil>=5.8,<5.9' \\\\\\n                'tqdm>=4.59,<4.60' \\\\\\n                'pandas>=1.1,<1.2' \\\\\\n                'scipy>=1.5,<1.6' \\\\\\n                'numpy>=1.10,<1.20' \\\\\\n                'ipykernel~=6.0' \\\\\\n                'azureml-core==1.37.0.post1' \\\\\\n                'azureml-defaults==1.37.0' \\\\\\n                'azureml-mlflow==1.37.0' \\\\\\n                'azureml-telemetry==1.37.0' \\\\\\n                'tensorboard==2.4.0' \\\\\\n                'tensorflow-gpu==2.4.1' \\\\\\n                'tensorflow-datasets==4.3.0' \\\\\\n                'onnxruntime-gpu>=1.7,<1.8' \\\\\\n                'horovod[tensorflow-gpu]==0.21.3'\\n\\n# This is needed for mpi to locate libpython\\nENV LD_LIBRARY_PATH $AZUREML_CONDA_ENVIRONMENT_PATH/lib:$LD_LIBRARY_PATH\",\n        \"baseImage\": null,\n        \"baseImageRegistry\": {\n            \"address\": null,\n            \"password\": null,\n            \"registryIdentity\": null,\n            \"username\": null\n        },\n        \"enabled\": false,\n        \"platform\": {\n            \"architecture\": \"amd64\",\n            \"os\": \"Linux\"\n        },\n        \"sharedVolumes\": true,\n        \"shmSize\": null\n    },\n    \"environmentVariables\": {\n        \"EXAMPLE_ENV_VAR\": \"EXAMPLE_VALUE\"\n    },\n    \"inferencingStackVersion\": null,\n    \"name\": \"test\",\n    \"python\": {\n        \"baseCondaEnvironment\": null,\n        \"condaDependencies\": {\n            \"channels\": [\n                \"anaconda\",\n                \"conda-forge\"\n            ],\n            \"dependencies\": [\n                \"python=3.6.2\",\n                {\n                    \"pip\": [\n                        \"azureml-defaults\",\n                        \"matplotlib\",\n                        \"tensorboard\"\n                    ]\n                },\n                \"rasterio\"\n            ],\n            \"name\": \"project_environment\"\n        },\n        \"condaDependenciesFile\": null,\n        \"interpreterPath\": \"python\",\n        \"userManagedDependencies\": true\n    },\n    \"r\": null,\n    \"spark\": {\n        \"packages\": [],\n        \"precachePackages\": true,\n        \"repositories\": []\n    },\n    \"version\": \"1\"\n}"
          },
          "metadata": {}
        }
      ],
      "execution_count": 25,
      "metadata": {
        "jupyter": {
          "source_hidden": false,
          "outputs_hidden": false
        },
        "nteract": {
          "transient": {
            "deleting": false
          }
        },
        "gather": {
          "logged": 1643053056600
        }
      }
    },
    {
      "cell_type": "code",
      "source": [
        "# create an environment for the first time\r\n",
        "\r\n",
        "envs = Environment.list(workspace = ws)\r\n",
        "# well start with a pre-built tensorflow environment\r\n",
        "env = envs.get('AzureML-tensorflow-2.4-ubuntu18.04-py37-cuda11-gpu')\r\n",
        "# env\r\n",
        "solar_env = env.clone('test')\r\n",
        "# define packages to be installed using CondaDependencies\r\n",
        "# get the packages that are already part of the pre-built environment\r\n",
        "conda_dep = CondaDependencies()\r\n",
        "# list packages to install\r\n",
        "pip_packages = ['matplotlib', 'tensorboard']\r\n",
        "\r\n",
        "# add each package to the existing conda dependencies\r\n",
        "for package in pip_packages:\r\n",
        "    conda_dep.add_pip_package(package)\r\n",
        "\r\n",
        "conda_dep.add_conda_package('rasterio')\r\n",
        "\r\n",
        "# double check all the packages are there\r\n",
        "conda_dep.serialize_to_string()\r\n",
        "# conda_dep = CondaDependencies.create(\r\n",
        "#     pip_packages=pip_packages)\r\n",
        "\r\n",
        "# Now update the conda dependencies of the python environment\r\n",
        "solar_env.python.conda_dependencies=conda_dep\r\n",
        "\r\n",
        "# # Register environment to re-use later\r\n",
        "solar_env.name = 'solar-training'\r\n",
        "solar_env.register(workspace = ws)"
      ],
      "outputs": [
        {
          "output_type": "execute_result",
          "execution_count": 18,
          "data": {
            "text/plain": "{\n    \"databricks\": {\n        \"eggLibraries\": [],\n        \"jarLibraries\": [],\n        \"mavenLibraries\": [],\n        \"pypiLibraries\": [],\n        \"rcranLibraries\": []\n    },\n    \"docker\": {\n        \"arguments\": [],\n        \"baseDockerfile\": \"FROM mcr.microsoft.com/azureml/openmpi4.1.0-cuda11.0.3-cudnn8-ubuntu18.04:20220113.v1\\n\\nENV AZUREML_CONDA_ENVIRONMENT_PATH /azureml-envs/tensorflow-2.4\\n\\n# Create conda environment\\nRUN conda create -p $AZUREML_CONDA_ENVIRONMENT_PATH \\\\\\n    python=3.7 pip=20.2.4\\n\\n# Prepend path to AzureML conda environment\\nENV PATH $AZUREML_CONDA_ENVIRONMENT_PATH/bin:$PATH\\n\\n# Install pip dependencies\\nRUN HOROVOD_WITH_TENSORFLOW=1 \\\\\\n    pip install 'matplotlib>=3.3,<3.4' \\\\\\n                'psutil>=5.8,<5.9' \\\\\\n                'tqdm>=4.59,<4.60' \\\\\\n                'pandas>=1.1,<1.2' \\\\\\n                'scipy>=1.5,<1.6' \\\\\\n                'numpy>=1.10,<1.20' \\\\\\n                'ipykernel~=6.0' \\\\\\n                'azureml-core==1.37.0.post1' \\\\\\n                'azureml-defaults==1.37.0' \\\\\\n                'azureml-mlflow==1.37.0' \\\\\\n                'azureml-telemetry==1.37.0' \\\\\\n                'tensorboard==2.4.0' \\\\\\n                'tensorflow-gpu==2.4.1' \\\\\\n                'tensorflow-datasets==4.3.0' \\\\\\n                'onnxruntime-gpu>=1.7,<1.8' \\\\\\n                'horovod[tensorflow-gpu]==0.21.3'\\n\\n# This is needed for mpi to locate libpython\\nENV LD_LIBRARY_PATH $AZUREML_CONDA_ENVIRONMENT_PATH/lib:$LD_LIBRARY_PATH\",\n        \"baseImage\": null,\n        \"baseImageRegistry\": {\n            \"address\": null,\n            \"password\": null,\n            \"registryIdentity\": null,\n            \"username\": null\n        },\n        \"enabled\": false,\n        \"platform\": {\n            \"architecture\": \"amd64\",\n            \"os\": \"Linux\"\n        },\n        \"sharedVolumes\": true,\n        \"shmSize\": null\n    },\n    \"environmentVariables\": {\n        \"EXAMPLE_ENV_VAR\": \"EXAMPLE_VALUE\"\n    },\n    \"inferencingStackVersion\": null,\n    \"name\": \"solar-training\",\n    \"python\": {\n        \"baseCondaEnvironment\": null,\n        \"condaDependencies\": {\n            \"channels\": [\n                \"anaconda\",\n                \"conda-forge\"\n            ],\n            \"dependencies\": [\n                \"python=3.6.2\",\n                {\n                    \"pip\": [\n                        \"azureml-defaults\",\n                        \"matplotlib\",\n                        \"tensorboard\"\n                    ]\n                },\n                \"rasterio\"\n            ],\n            \"name\": \"project_environment\"\n        },\n        \"condaDependenciesFile\": null,\n        \"interpreterPath\": \"python\",\n        \"userManagedDependencies\": true\n    },\n    \"r\": null,\n    \"spark\": {\n        \"packages\": [],\n        \"precachePackages\": true,\n        \"repositories\": []\n    },\n    \"version\": \"2\"\n}"
          },
          "metadata": {}
        }
      ],
      "execution_count": 18,
      "metadata": {
        "jupyter": {
          "source_hidden": false,
          "outputs_hidden": false
        },
        "nteract": {
          "transient": {
            "deleting": false
          }
        },
        "gather": {
          "logged": 1643050589298
        }
      }
    },
    {
      "cell_type": "code",
      "source": [
        "iterator = iter(env.python.conda_dependencies.conda_packages)"
      ],
      "outputs": [],
      "execution_count": 13,
      "metadata": {
        "jupyter": {
          "source_hidden": false,
          "outputs_hidden": false
        },
        "nteract": {
          "transient": {
            "deleting": false
          }
        },
        "gather": {
          "logged": 1643049587175
        }
      }
    },
    {
      "cell_type": "code",
      "source": [
        "solar_env.name"
      ],
      "outputs": [
        {
          "output_type": "execute_result",
          "execution_count": 20,
          "data": {
            "text/plain": "'solar-training'"
          },
          "metadata": {}
        }
      ],
      "execution_count": 20,
      "metadata": {
        "jupyter": {
          "source_hidden": false,
          "outputs_hidden": false
        },
        "nteract": {
          "transient": {
            "deleting": false
          }
        },
        "gather": {
          "logged": 1643050736169
        }
      }
    }
  ],
  "metadata": {
    "kernelspec": {
      "name": "python38-azureml",
      "language": "python",
      "display_name": "Python 3.8 - AzureML"
    },
    "language_info": {
      "name": "python",
      "version": "3.8.5",
      "mimetype": "text/x-python",
      "codemirror_mode": {
        "name": "ipython",
        "version": 3
      },
      "pygments_lexer": "ipython3",
      "nbconvert_exporter": "python",
      "file_extension": ".py"
    },
    "kernel_info": {
      "name": "python38-azureml"
    },
    "nteract": {
      "version": "nteract-front-end@1.0.0"
    },
    "microsoft": {
      "host": {
        "AzureML": {
          "notebookHasBeenCompleted": true
        }
      }
    }
  },
  "nbformat": 4,
  "nbformat_minor": 2
}