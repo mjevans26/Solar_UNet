{
  "cells": [
    {
      "cell_type": "code",
      "source": [
        "import azureml.core\r\n",
        "from azureml.core import Experiment, Environment, Workspace, Dataset, Datastore, ScriptRunConfig\r\n",
        "from azureml.core.conda_dependencies import CondaDependencies\r\n",
        "import os\r\n",
        "import shutil\r\n",
        "\r\n",
        "# check core SDK version number\r\n",
        "\r\n",
        "print(\"Azure ML SDK Version: \", azureml.core.VERSION)"
      ],
      "outputs": [],
      "execution_count": null,
      "metadata": {
        "gather": {
          "logged": 1642804715501
        }
      }
    },
    {
      "cell_type": "code",
      "source": [
        "# load workspace configuration from the config.json file in the current folder.\r\n",
        "ws = Workspace.from_config()\r\n",
        "# get metadata about the workspace\r\n",
        "print(ws.name, ws.location, ws.resource_group, sep='\\t')\r\n",
        "# list the registered datastores\r\n",
        "ws.datastores"
      ],
      "outputs": [],
      "execution_count": null,
      "metadata": {
        "collapsed": true,
        "jupyter": {
          "source_hidden": false,
          "outputs_hidden": false
        },
        "nteract": {
          "transient": {
            "deleting": false
          }
        },
        "gather": {
          "logged": 1642781513822
        }
      }
    },
    {
      "cell_type": "code",
      "source": [
        "# register our data share containing image data in this workspace\r\n",
        "Datastore.register_azure_blob_container(\r\n",
        "    account_key = 'jP7J8NN8DuIcDblyLkw2FElcyhtxlHSVZC2j+07ZboUtrLSQGKvwALZDoE9hfuKP9pxY2p3yzLQP84R1nY9ErQ==',\r\n",
        "    workspace = ws,\r\n",
        "    datastore_name = 'solarDataBlob',\r\n",
        "    container_name = 'solar',\r\n",
        "    account_name = 'aiprojects')"
      ],
      "outputs": [],
      "execution_count": null,
      "metadata": {
        "collapsed": true,
        "jupyter": {
          "source_hidden": false,
          "outputs_hidden": false
        },
        "nteract": {
          "transient": {
            "deleting": false
          }
        },
        "gather": {
          "logged": 1642781652343
        }
      }
    },
    {
      "cell_type": "code",
      "source": [
        "# create a file dataset that can be used in training\r\n",
        "datastore = Datastore.get(workspace = ws, datastore_name = 'solardatablob')\r\n",
        "datastore_paths = [(datastore, 'CPK_solar'), (datastore, 'NC_solar')]\r\n",
        "cpk_dataset = Dataset.File.from_files(path = datastore_paths[0])\r\n",
        "nc_dataset = Dataset.File.from_files(path = datastore_paths[1])\r\n",
        "\r\n",
        "cpk_dataset = cpk_dataset.register(\r\n",
        "    workspace=ws,\r\n",
        "    name='gee-cpk-solar-data',\r\n",
        "    description='training and eval TFRecords for solar arrays exported from GEE',\r\n",
        "    create_new_version=True)\r\n",
        "\r\n",
        "nc_dataset = nc_dataset.register(\r\n",
        "    workspace=ws,\r\n",
        "    name='gee-nc-solar-data',\r\n",
        "    description='training and eval TFRecords for solar arrays exported from GEE',\r\n",
        "    create_new_version=True)"
      ],
      "outputs": [],
      "execution_count": null,
      "metadata": {
        "collapsed": true,
        "jupyter": {
          "source_hidden": false,
          "outputs_hidden": false
        },
        "nteract": {
          "transient": {
            "deleting": false
          }
        },
        "gather": {
          "logged": 1642800766789
        }
      }
    },
    {
      "cell_type": "code",
      "source": [
        "# create an environment for the first time\r\n",
        "\r\n",
        "envs = Environment.list(workspace = ws)\r\n",
        "# well start with a pre-built tensorflow environment\r\n",
        "env = envs.get('AzureML-TensorFlow-2.3-GPU')\r\n",
        "env\r\n",
        "\r\n",
        "# define packages to be installed using CondaDependencies\r\n",
        "# get the packages that are already part of the pre-built environment\r\n",
        "conda_dep = env.python.conda_dependencies\r\n",
        "# list packages to install\r\n",
        "pip_packages = ['matplotlib', 'rasterio', 'tensorboard']\r\n",
        "\r\n",
        "# add each package to the existing conda dependencies\r\n",
        "for package in pip_packages:\r\n",
        "    conda_dep.add_pip_package(package)\r\n",
        "\r\n",
        "# double check all the packages are there\r\n",
        "conda_dep.serialize_to_string()\r\n",
        "# conda_dep = CondaDependencies.create(\r\n",
        "#     pip_packages=pip_packages)\r\n",
        "\r\n",
        "# Now update the conda dependencies of the python environment\r\n",
        "env.python.conda_dependencies=conda_dep\r\n",
        "\r\n",
        "# # Register environment to re-use later\r\n",
        "env.name = 'solar-training'\r\n",
        "env.register(workspace = ws)"
      ],
      "outputs": [],
      "execution_count": null,
      "metadata": {
        "collapsed": true,
        "jupyter": {
          "source_hidden": false,
          "outputs_hidden": false
        },
        "nteract": {
          "transient": {
            "deleting": false
          }
        },
        "gather": {
          "logged": 1622223971377
        }
      }
    },
    {
      "cell_type": "code",
      "source": [
        "# create an environment for the first time\r\n",
        "\r\n",
        "envs = Environment.list(workspace = ws)\r\n",
        "# well start with a pre-built tensorflow environment\r\n",
        "env = envs.get('AzureML-tensorflow-2.4-ubuntu18.04-py37-cuda11-gpu')\r\n",
        "# env\r\n",
        "\r\n",
        "# define packages to be installed using CondaDependencies\r\n",
        "# get the packages that are already part of the pre-built environment\r\n",
        "conda_dep = CondaDependencies()\r\n",
        "# list packages to install\r\n",
        "pip_packages = ['matplotlib', 'rasterio', 'tensorboard']\r\n",
        "\r\n",
        "# add each package to the existing conda dependencies\r\n",
        "for package in pip_packages:\r\n",
        "    conda_dep.add_pip_package(package)\r\n",
        "\r\n",
        "# double check all the packages are there\r\n",
        "conda_dep.serialize_to_string()\r\n",
        "# conda_dep = CondaDependencies.create(\r\n",
        "#     pip_packages=pip_packages)\r\n",
        "\r\n",
        "# Now update the conda dependencies of the python environment\r\n",
        "env.python.conda_dependencies=conda_dep\r\n",
        "\r\n",
        "# # Register environment to re-use later\r\n",
        "env.name = 'landcover-training'\r\n",
        "env.register(workspace = ws)"
      ],
      "outputs": [],
      "execution_count": null,
      "metadata": {
        "jupyter": {
          "source_hidden": false,
          "outputs_hidden": false
        },
        "nteract": {
          "transient": {
            "deleting": false
          }
        },
        "gather": {
          "logged": 1642804722235
        }
      }
    }
  ],
  "metadata": {
    "kernelspec": {
      "name": "python3-azureml",
      "language": "python",
      "display_name": "Python 3.6 - AzureML"
    },
    "language_info": {
      "name": "python",
      "version": "3.6.9",
      "mimetype": "text/x-python",
      "codemirror_mode": {
        "name": "ipython",
        "version": 3
      },
      "pygments_lexer": "ipython3",
      "nbconvert_exporter": "python",
      "file_extension": ".py"
    },
    "kernel_info": {
      "name": "python3-azureml"
    },
    "nteract": {
      "version": "nteract-front-end@1.0.0"
    },
    "microsoft": {
      "host": {
        "AzureML": {
          "notebookHasBeenCompleted": true
        }
      }
    }
  },
  "nbformat": 4,
  "nbformat_minor": 2
}