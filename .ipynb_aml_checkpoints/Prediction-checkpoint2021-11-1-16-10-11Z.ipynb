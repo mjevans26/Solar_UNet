{
  "cells": [
    {
      "cell_type": "code",
      "source": [
        "!pip install rasterio"
      ],
      "outputs": [],
      "execution_count": null,
      "metadata": {}
    },
    {
      "cell_type": "code",
      "source": [
        "!pip install 'h5py==2.10.0' --force-reinstall"
      ],
      "outputs": [],
      "execution_count": null,
      "metadata": {
        "jupyter": {
          "source_hidden": false,
          "outputs_hidden": false
        },
        "nteract": {
          "transient": {
            "deleting": false
          }
        }
      }
    },
    {
      "cell_type": "code",
      "source": [
        "!pip install folium"
      ],
      "outputs": [],
      "execution_count": null,
      "metadata": {
        "collapsed": true,
        "jupyter": {
          "source_hidden": false,
          "outputs_hidden": false
        },
        "nteract": {
          "transient": {
            "deleting": false
          }
        }
      }
    },
    {
      "cell_type": "code",
      "source": [
        "!pip install earthengine-api --upgrade"
      ],
      "outputs": [],
      "execution_count": null,
      "metadata": {
        "collapsed": true,
        "jupyter": {
          "source_hidden": false,
          "outputs_hidden": false
        },
        "nteract": {
          "transient": {
            "deleting": false
          }
        }
      }
    },
    {
      "cell_type": "code",
      "source": [
        "import ee\r\n",
        "ee.Authenticate()\r\n",
        "ee.Initialize()"
      ],
      "outputs": [
        {
          "output_type": "display_data",
          "data": {
            "text/plain": "<IPython.core.display.HTML object>",
            "text/html": "<p>To authorize access needed by Earth Engine, open the following\n        URL in a web browser and follow the instructions:</p>\n        <p><a href=https://accounts.google.com/o/oauth2/auth?client_id=517222506229-vsmmajv00ul0bs7p89v5m89qs8eb9359.apps.googleusercontent.com&scope=https%3A%2F%2Fwww.googleapis.com%2Fauth%2Fearthengine+https%3A%2F%2Fwww.googleapis.com%2Fauth%2Fdevstorage.full_control&redirect_uri=urn%3Aietf%3Awg%3Aoauth%3A2.0%3Aoob&response_type=code&code_challenge=dB6mYV_YlQY5RWNEGBxDLTQiNdZuv5vPwgdxqe38chw&code_challenge_method=S256>https://accounts.google.com/o/oauth2/auth?client_id=517222506229-vsmmajv00ul0bs7p89v5m89qs8eb9359.apps.googleusercontent.com&scope=https%3A%2F%2Fwww.googleapis.com%2Fauth%2Fearthengine+https%3A%2F%2Fwww.googleapis.com%2Fauth%2Fdevstorage.full_control&redirect_uri=urn%3Aietf%3Awg%3Aoauth%3A2.0%3Aoob&response_type=code&code_challenge=dB6mYV_YlQY5RWNEGBxDLTQiNdZuv5vPwgdxqe38chw&code_challenge_method=S256</a></p>\n        <p>The authorization workflow will generate a code, which you\n        should paste in the box below</p>\n        "
          },
          "metadata": {}
        },
        {
          "output_type": "stream",
          "name": "stdout",
          "text": "\nSuccessfully saved authorization token.\n"
        }
      ],
      "execution_count": 5,
      "metadata": {
        "collapsed": true,
        "jupyter": {
          "source_hidden": false,
          "outputs_hidden": false
        },
        "nteract": {
          "transient": {
            "deleting": false
          }
        },
        "gather": {
          "logged": 1638287197140
        }
      }
    },
    {
      "cell_type": "code",
      "source": [
        "import azureml.core\r\n",
        "from azureml.core import Experiment, Workspace, Dataset, Datastore, ScriptRunConfig, Model\r\n",
        "from azureml.core.environment import Environment\r\n",
        "from azureml.core.conda_dependencies import CondaDependencies\r\n",
        "\r\n",
        "import os\r\n",
        "import shutil\r\n",
        "import glob\r\n",
        "from os.path import join\r\n",
        "from sys import path\r\n",
        "\r\n",
        "import tensorflow as tf\r\n",
        "from tensorflow.python.keras import models\r\n",
        "from tensorflow.python.keras import optimizers\r\n",
        "from tensorflow.python.keras import metrics\r\n",
        "\r\n",
        "import numpy as np\r\n",
        "import rasterio as rio\r\n",
        "import json\r\n",
        "\r\n",
        "# check core SDK version number\r\n",
        "\r\n",
        "print(\"Azure ML SDK Version: \", azureml.core.VERSION)"
      ],
      "outputs": [
        {
          "output_type": "stream",
          "name": "stdout",
          "text": "Azure ML SDK Version:  1.18.0\n"
        }
      ],
      "execution_count": 6,
      "metadata": {
        "collapsed": true,
        "jupyter": {
          "source_hidden": false,
          "outputs_hidden": false
        },
        "nteract": {
          "transient": {
            "deleting": false
          }
        },
        "gather": {
          "logged": 1638287203111
        }
      }
    },
    {
      "cell_type": "code",
      "source": [
        "# make sure we have the most current version of github repo\r\n",
        "%cd Satellite_ComputerVision\r\n",
        "!git pull\r\n",
        "%cd .."
      ],
      "outputs": [
        {
          "output_type": "stream",
          "name": "stdout",
          "text": "/mnt/batch/tasks/shared/LS_root/mounts/clusters/mevans1/code/Users/mevans/Satellite_ComputerVision\nremote: Enumerating objects: 162, done.\u001b[K\nremote: Counting objects: 100% (162/162), done.\u001b[K\nremote: Compressing objects: 100% (86/86), done.\u001b[K\nremote: Total 156 (delta 114), reused 112 (delta 70), pack-reused 0\u001b[K\nReceiving objects: 100% (156/156), 39.27 KiB | 59.00 KiB/s, done.\nResolving deltas: 100% (114/114), completed with 5 local objects.\nFrom https://github.com/mjevans26/Satellite_ComputerVision\n   013c69c..6c7949d  master     -> origin/master\nUpdating 013c69c..6c7949d\nerror: Your local changes to the following files would be overwritten by merge:\n\tutils/__pycache__/clouds.cpython-36.pyc\nPlease commit your changes or stash them before you merge.\nAborting\n/mnt/batch/tasks/shared/LS_root/mounts/clusters/mevans1/code/Users/mevans\n"
        }
      ],
      "execution_count": 6,
      "metadata": {
        "collapsed": true,
        "jupyter": {
          "source_hidden": false,
          "outputs_hidden": false
        },
        "nteract": {
          "transient": {
            "deleting": false
          }
        },
        "gather": {
          "logged": 1637619485592
        }
      }
    },
    {
      "cell_type": "code",
      "source": [
        "# attach our utilities folder to the path to import modules\r\n",
        "path.append('/home/azureuser/cloudfiles/code/Users/mevans/Satellite_ComputerVision/azure')"
      ],
      "outputs": [],
      "execution_count": 7,
      "metadata": {
        "collapsed": true,
        "jupyter": {
          "source_hidden": false,
          "outputs_hidden": false
        },
        "nteract": {
          "transient": {
            "deleting": false
          }
        },
        "gather": {
          "logged": 1638287208388
        }
      }
    },
    {
      "cell_type": "code",
      "source": [
        "from utils.model_tools import get_binary_model, make_confusion_matrix, weighted_bce\r\n",
        "from utils.processing import get_training_dataset, normalize\r\n",
        "from utils.prediction_tools import makePredDataset, make_array_predictions, get_img_bounds\r\n",
        "from utils.clouds import basicQA"
      ],
      "outputs": [],
      "execution_count": 8,
      "metadata": {
        "collapsed": true,
        "jupyter": {
          "source_hidden": false,
          "outputs_hidden": false
        },
        "nteract": {
          "transient": {
            "deleting": false
          }
        },
        "gather": {
          "logged": 1638287210131
        }
      }
    },
    {
      "cell_type": "code",
      "source": [
        "# load workspace configuration from the config.json file in the current folder.\r\n",
        "ws = Workspace.from_config()\r\n",
        "# get metadata about the workspace\r\n",
        "print(ws.name, ws.location, ws.resource_group, sep='\\t')\r\n",
        "# list the registered datastores\r\n",
        "ws.datastores"
      ],
      "outputs": [
        {
          "output_type": "stream",
          "name": "stdout",
          "text": "solar-compviz\teastus2\tPLACE\n"
        },
        {
          "output_type": "execute_result",
          "execution_count": 9,
          "data": {
            "text/plain": "{'autoencoderblob': {\n   \"name\": \"autoencoderblob\",\n   \"container_name\": \"autoencoder\",\n   \"account_name\": \"changedetectio8527471924\",\n   \"protocol\": \"https\",\n   \"endpoint\": \"core.windows.net\"\n },\n 'workspaceartifactstore': {\n   \"name\": \"workspaceartifactstore\",\n   \"container_name\": \"azureml\",\n   \"account_name\": \"solarcompviz6161005396\",\n   \"protocol\": \"https\",\n   \"endpoint\": \"core.windows.net\"\n },\n 'solardatafilestore': {\n   \"name\": \"solardatafilestore\",\n   \"container_name\": \"gee-data\",\n   \"account_name\": \"solarcompviz6161005396\",\n   \"protocol\": \"https\",\n   \"endpoint\": \"core.windows.net\"\n },\n 'workspaceblobstore': {\n   \"name\": \"workspaceblobstore\",\n   \"container_name\": \"azureml-blobstore-20200d5f-4836-4a79-bf1c-7bd46e0d0c35\",\n   \"account_name\": \"solarcompviz6161005396\",\n   \"protocol\": \"https\",\n   \"endpoint\": \"core.windows.net\"\n },\n 'workspacefilestore': {\n   \"name\": \"workspacefilestore\",\n   \"container_name\": \"azureml-filestore-20200d5f-4836-4a79-bf1c-7bd46e0d0c35\",\n   \"account_name\": \"solarcompviz6161005396\",\n   \"protocol\": \"https\",\n   \"endpoint\": \"core.windows.net\"\n }}"
          },
          "metadata": {}
        }
      ],
      "execution_count": 9,
      "metadata": {
        "collapsed": true,
        "jupyter": {
          "source_hidden": false,
          "outputs_hidden": false
        },
        "nteract": {
          "transient": {
            "deleting": false
          }
        },
        "gather": {
          "logged": 1638287213244
        }
      }
    },
    {
      "cell_type": "code",
      "source": [
        "# access our registered data share containing image data in this workspace\r\n",
        "datastore = Datastore.get(workspace = ws, datastore_name = 'solardatafilestore')\r\n",
        "\r\n",
        "cpk_train_path = (datastore, 'CPK_solar/training/')\r\n",
        "cpk_eval_path = (datastore, 'CPK_solar/eval/')\r\n",
        "\r\n",
        "nc_train_path = (datastore, 'NC_solar/training/')\r\n",
        "nc_eval_path = (datastore, 'NC_solar/eval/')\r\n",
        "test_path = (datastore, 'CPK_solar/predict/testpred6')\r\n",
        "\r\n",
        "train_dataset = Dataset.File.from_files(path = [cpk_train_path, nc_train_path])\r\n",
        "eval_dataset = Dataset.File.from_files(path = [cpk_eval_path, nc_eval_path])\r\n",
        "test_dataset = Dataset.File.from_files(path = [test_path])\r\n"
      ],
      "outputs": [],
      "execution_count": 10,
      "metadata": {
        "jupyter": {
          "source_hidden": false,
          "outputs_hidden": false
        },
        "nteract": {
          "transient": {
            "deleting": false
          }
        },
        "gather": {
          "logged": 1638287221868
        }
      }
    },
    {
      "cell_type": "code",
      "source": [
        "experiment_name = 'solar-nc-cpk'\r\n",
        "exp = Experiment(workspace = ws, name = experiment_name)"
      ],
      "outputs": [],
      "execution_count": 11,
      "metadata": {
        "jupyter": {
          "source_hidden": false,
          "outputs_hidden": false
        },
        "nteract": {
          "transient": {
            "deleting": false
          }
        },
        "gather": {
          "logged": 1638287224260
        }
      }
    },
    {
      "cell_type": "code",
      "source": [
        "run_id = 'solar-nc-cpk_1637726302_3d9204e4'\r\n",
        "\r\n",
        "run = ws.get_run(run_id)\r\n",
        "\r\n",
        "run.tags\r\n",
        "\r\n",
        "model_name = 'solar_Nov21'"
      ],
      "outputs": [],
      "execution_count": 12,
      "metadata": {
        "jupyter": {
          "source_hidden": false,
          "outputs_hidden": false
        },
        "nteract": {
          "transient": {
            "deleting": false
          }
        },
        "gather": {
          "logged": 1638287225609
        }
      }
    },
    {
      "cell_type": "code",
      "source": [
        "# if we haven't already registered our model\r\n",
        "model = run.register_model(model_name= model_name,\r\n",
        "                           tags=run.tags,\r\n",
        "                           description = 'UNET model delineating anthropogenic change in pairs of Sentinel-2 imagery',\r\n",
        "                           model_path='outputs/',\r\n",
        "                           model_framework = 'Tensorflow',\r\n",
        "                           model_framework_version= '2.0',\r\n",
        "                           datasets = [('training', train_dataset), ('evaluation', eval_dataset), ('testing', test_dataset)])\r\n",
        "print(model.name, model.id, model.version, sep='\\t')"
      ],
      "outputs": [
        {
          "output_type": "stream",
          "name": "stdout",
          "text": "solar_Nov21\tsolar_Nov21:1\t1\n"
        }
      ],
      "execution_count": 50,
      "metadata": {
        "jupyter": {
          "source_hidden": false,
          "outputs_hidden": false
        },
        "nteract": {
          "transient": {
            "deleting": false
          }
        },
        "gather": {
          "logged": 1638286304448
        }
      }
    },
    {
      "cell_type": "code",
      "source": [
        "model = Model(ws, model_name)\r\n",
        "model_path = model.get_model_path(model_name, _workspace = ws)"
      ],
      "outputs": [],
      "execution_count": 13,
      "metadata": {
        "jupyter": {
          "source_hidden": false,
          "outputs_hidden": false
        },
        "nteract": {
          "transient": {
            "deleting": false
          }
        },
        "gather": {
          "logged": 1638287369655
        }
      }
    },
    {
      "cell_type": "code",
      "source": [
        "model_dir = Model.get_model_path(model_name)\r\n",
        "weights_path = glob.glob(os.path.join(model_dir, '*.hdf5'))\r\n",
        "model_path = glob.glob(os.path.join(model_dir, '*.h5'))\r\n",
        "weights_path\r\n",
        "model_path"
      ],
      "outputs": [
        {
          "output_type": "execute_result",
          "execution_count": 14,
          "data": {
            "text/plain": "['azureml-models/solar_Nov21/1/outputs/unet256_24Nov21.h5']"
          },
          "metadata": {}
        }
      ],
      "execution_count": 14,
      "metadata": {
        "jupyter": {
          "source_hidden": false,
          "outputs_hidden": false
        },
        "nteract": {
          "transient": {
            "deleting": false
          }
        },
        "gather": {
          "logged": 1638287512192
        }
      }
    },
    {
      "cell_type": "code",
      "source": [
        "weights_path"
      ],
      "outputs": [
        {
          "output_type": "execute_result",
          "execution_count": 15,
          "data": {
            "text/plain": "['azureml-models/solar_Nov21/1/outputs/best_weights_24Nov21_01.hdf5',\n 'azureml-models/solar_Nov21/1/outputs/best_weights_24Nov21_02.hdf5',\n 'azureml-models/solar_Nov21/1/outputs/best_weights_24Nov21_03.hdf5',\n 'azureml-models/solar_Nov21/1/outputs/best_weights_24Nov21_04.hdf5',\n 'azureml-models/solar_Nov21/1/outputs/best_weights_24Nov21_05.hdf5',\n 'azureml-models/solar_Nov21/1/outputs/best_weights_24Nov21_08.hdf5',\n 'azureml-models/solar_Nov21/1/outputs/best_weights_24Nov21_11.hdf5',\n 'azureml-models/solar_Nov21/1/outputs/best_weights_24Nov21_15.hdf5',\n 'azureml-models/solar_Nov21/1/outputs/best_weights_24Nov21_16.hdf5',\n 'azureml-models/solar_Nov21/1/outputs/best_weights_24Nov21_22.hdf5',\n 'azureml-models/solar_Nov21/1/outputs/best_weights_24Nov21_25.hdf5',\n 'azureml-models/solar_Nov21/1/outputs/best_weights_24Nov21_33.hdf5',\n 'azureml-models/solar_Nov21/1/outputs/best_weights_24Nov21_38.hdf5',\n 'azureml-models/solar_Nov21/1/outputs/best_weights_24Nov21_41.hdf5',\n 'azureml-models/solar_Nov21/1/outputs/best_weights_24Nov21_65.hdf5',\n 'azureml-models/solar_Nov21/1/outputs/best_weights_24Nov21_76.hdf5',\n 'azureml-models/solar_Nov21/1/outputs/best_weights_24Nov21_79.hdf5',\n 'azureml-models/solar_Nov21/1/outputs/best_weights_24Nov21_93.hdf5']"
          },
          "metadata": {}
        }
      ],
      "execution_count": 15,
      "metadata": {
        "jupyter": {
          "source_hidden": false,
          "outputs_hidden": false
        },
        "nteract": {
          "transient": {
            "deleting": false
          }
        },
        "gather": {
          "logged": 1638287514223
        }
      }
    },
    {
      "cell_type": "code",
      "source": [
        "# Define some global variabes\r\n",
        "\r\n",
        "BANDS = ['B2', 'B3', 'B4', 'B8', 'B11', 'B12']\r\n",
        "RESPONSE = 'landcover'\r\n",
        "FEATURES = BANDS + [RESPONSE]\r\n",
        "print(FEATURES)\r\n",
        "DEPTH = len(FEATURES)\r\n",
        "\r\n",
        "# Specify the size and shape of patches expected by the model.\r\n",
        "KERNEL_SIZE = 256\r\n",
        "KERNEL_SHAPE = [KERNEL_SIZE, KERNEL_SIZE]\r\n",
        "COLUMNS = [\r\n",
        "  tf.io.FixedLenFeature(shape=KERNEL_SHAPE, dtype=tf.float32) for k in FEATURES\r\n",
        "]\r\n",
        "FEATURES_DICT = dict(zip(FEATURES, COLUMNS))\r\n",
        "\r\n",
        "OPTIMIZER = tf.keras.optimizers.Adam(learning_rate=0.0001, beta_1=0.9, beta_2=0.999)\r\n",
        "\r\n",
        "METRICS = {\r\n",
        "    'logits':[tf.keras.metrics.MeanSquaredError(name='mse'), tf.keras.metrics.Precision(name='precision'), tf.keras.metrics.Recall(name='recall')],\r\n",
        "    'classes':[tf.keras.metrics.MeanIoU(num_classes=2, name = 'mean_iou')]\r\n",
        "    }"
      ],
      "outputs": [
        {
          "output_type": "stream",
          "name": "stdout",
          "text": "['B2', 'B3', 'B4', 'B8', 'B11', 'B12', 'landcover']\n"
        }
      ],
      "execution_count": 16,
      "metadata": {
        "jupyter": {
          "source_hidden": false,
          "outputs_hidden": false
        },
        "nteract": {
          "transient": {
            "deleting": false
          }
        },
        "gather": {
          "logged": 1638287517400
        }
      }
    },
    {
      "cell_type": "code",
      "source": [
        "def get_weighted_bce(y_true,y_pred):\r\n",
        "  return weighted_bce(y_true, y_pred, 1)\r\n",
        "# m = models.load_model(f'{model_path[0]}', custom_objects = {'get_weighted_bce': get_weighted_bce})\r\n",
        "m = get_binary_model(depth = len(BANDS), optim = OPTIMIZER, loss = get_weighted_bce, mets = METRICS, bias = None)\r\n",
        "m.load_weights('azureml-models/solar_Nov21/1/outputs/best_weights_24Nov21_65.hdf5')"
      ],
      "outputs": [
        {
          "output_type": "stream",
          "name": "stderr",
          "text": "WARNING - Output classes missing from loss dictionary. We assume this was done on purpose. The fit and evaluate APIs will not be expecting any data to be passed to classes.\n"
        }
      ],
      "execution_count": 17,
      "metadata": {
        "jupyter": {
          "source_hidden": false,
          "outputs_hidden": false
        },
        "nteract": {
          "transient": {
            "deleting": false
          }
        },
        "gather": {
          "logged": 1638287525929
        }
      }
    },
    {
      "cell_type": "code",
      "source": [
        "# Create mountcontext and mount the dataset\r\n",
        "aoi = 'testpred6'\r\n",
        "\r\n",
        "cpk_test_path = (datastore, f'CPK_solar/predict/{aoi}')\r\n",
        "\r\n",
        "cpk_test_dataset = Dataset.File.from_files(path = [cpk_test_path])\r\n",
        "\r\n",
        "testFiles = []\r\n",
        "\r\n",
        "# open access to the mount point\r\n",
        "with cpk_test_dataset.mount() as mount:\r\n",
        "\r\n",
        "    # Get the mount point\r\n",
        "    dataset_mount_folder = mount.mount_point\r\n",
        "    print(dataset_mount_folder)\r\n",
        "\r\n",
        "    for root, dirs, files in os.walk(dataset_mount_folder):\r\n",
        "        for f in files:\r\n",
        "            testFiles.append(join(root, f))\r\n",
        "\r\n",
        "    predFiles = [x for x in testFiles if '.gz' in x]\r\n",
        "    jsonFiles = [x for x in testFiles if '.json' in x]\r\n",
        "    jsonFile = jsonFiles[0]\r\n",
        "    predData = makePredDataset(predFiles, BANDS, one_hot = None)\r\n",
        "    preds = make_array_predictions(imageDataset = predData, model = m, jsonFile = jsonFile)"
      ],
      "outputs": [
        {
          "output_type": "stream",
          "name": "stdout",
          "text": "/tmp/tmpzfnmz_1e\nCRITICAL - MSI: Failed to retrieve a token from 'http://127.0.1.1:46808/MSI/auth/?resource=https://management.core.windows.net/&api-version=2017-09-01' with an error of 'HTTPConnectionPool(host='127.0.1.1', port=46808): Max retries exceeded with url: /MSI/auth/?resource=https://management.core.windows.net/&api-version=2017-09-01 (Caused by NewConnectionError('<urllib3.connection.HTTPConnection object at 0x7fe88c3809b0>: Failed to establish a new connection: [Errno 111] Connection refused',))'.\nCRITICAL - MSI: Failed to retrieve a token from 'http://127.0.1.1:46808/MSI/auth/?resource=https://management.core.windows.net/&api-version=2017-09-01' with an error of 'HTTPConnectionPool(host='127.0.1.1', port=46808): Max retries exceeded with url: /MSI/auth/?resource=https://management.core.windows.net/&api-version=2017-09-01 (Caused by NewConnectionError('<urllib3.connection.HTTPConnection object at 0x7fe88f7c6748>: Failed to establish a new connection: [Errno 111] Connection refused',))'.\n{'projection': {'crs': 'EPSG:4326', 'affine': {'doubleMatrix': [8.983152841195215e-05, 0.0, -77.48598146229756, 0.0, -8.983152841195215e-05, 39.64588742321731]}}, 'patchDimensions': [256, 256], 'patchesPerRow': 6, 'totalPatches': 30}\nRunning predictions...\n30/30 [==============================] - 24s 784ms/step\b\b\b\b\b\b\b\b\b\b\b\b\b\b\b\b\b\b\b\b\b\b\b\b\b\b\b\b\b\b\b\b\b\b\b\b\b\b\b\b\b\b\b\b\b\nWriting patch 1...\nWriting patch 2...\nWriting patch 3...\nWriting patch 4...\nWriting patch 5...\nWriting patch 6...\nWriting patch 7...\nWriting patch 8...\nWriting patch 9...\nWriting patch 10...\nWriting patch 11...\nWriting patch 12...\nWriting patch 13...\nWriting patch 14...\nWriting patch 15...\nWriting patch 16...\nWriting patch 17...\nWriting patch 18...\nWriting patch 19...\nWriting patch 20...\nWriting patch 21...\nWriting patch 22...\nWriting patch 23...\nWriting patch 24...\nWriting patch 25...\nWriting patch 26...\nWriting patch 27...\nWriting patch 28...\nWriting patch 29...\nWriting patch 30...\n"
        }
      ],
      "execution_count": 18,
      "metadata": {
        "jupyter": {
          "source_hidden": false,
          "outputs_hidden": false
        },
        "nteract": {
          "transient": {
            "deleting": false
          }
        },
        "gather": {
          "logged": 1638287567981
        }
      }
    },
    {
      "cell_type": "code",
      "source": [
        "# predFiles = [x for x in testFiles if '.gz' in x]\r\n",
        "# predFiles"
      ],
      "outputs": [
        {
          "output_type": "execute_result",
          "execution_count": 25,
          "data": {
            "text/plain": "['/tmp/tmpcgvo7vsi/raw_unet256_testpred1.tfrecord.gz']"
          },
          "metadata": {}
        }
      ],
      "execution_count": 25,
      "metadata": {
        "jupyter": {
          "source_hidden": false,
          "outputs_hidden": false
        },
        "nteract": {
          "transient": {
            "deleting": false
          }
        },
        "gather": {
          "logged": 1637620320069
        }
      }
    },
    {
      "cell_type": "code",
      "source": [
        "# jsonFiles = [x for x in testFiles if '.json' in x]\r\n",
        "# jsonFiles\r\n",
        "# jsonFile = jsonFiles[0]"
      ],
      "outputs": [],
      "execution_count": 26,
      "metadata": {
        "jupyter": {
          "source_hidden": false,
          "outputs_hidden": false
        },
        "nteract": {
          "transient": {
            "deleting": false
          }
        },
        "gather": {
          "logged": 1637620323660
        }
      }
    },
    {
      "cell_type": "code",
      "source": [
        "# predData = makePredDataset(predFiles, BANDS, one_hot = None)\r\n",
        "# iterator = iter(predData)\r\n",
        "# print(iterator.next())"
      ],
      "outputs": [],
      "execution_count": null,
      "metadata": {
        "jupyter": {
          "source_hidden": false,
          "outputs_hidden": false
        },
        "nteract": {
          "transient": {
            "deleting": false
          }
        }
      }
    },
    {
      "cell_type": "code",
      "source": [
        "# preds = make_array_predictions(imageDataset = predData, model = m, jsonFile = jsonFile)"
      ],
      "outputs": [],
      "execution_count": null,
      "metadata": {
        "jupyter": {
          "source_hidden": false,
          "outputs_hidden": false
        },
        "nteract": {
          "transient": {
            "deleting": false
          }
        }
      }
    },
    {
      "cell_type": "code",
      "source": [
        "# We can visualize the predictions here in the notebook\r\n",
        "from matplotlib import pyplot as plt\r\n",
        "from matplotlib import colors\r\n",
        "\r\n",
        "figure = plt.figure(figsize = (12,12))\r\n",
        "# cmap = colors.ListedColormap(['#5dc5f1', '#50a886', '#3d6e1d', '#80e144', '#bafb85', '#d4a13e', \"#e73522\", \"#9c9c9c\", \"#000000\", \"#706e22\", \"#e7e64b\", \"#fefc86\", '#ad36ed'])\r\n",
        "prob = preds[:, :, 0]\r\n",
        "cls = preds[:, :, 1]\r\n",
        "\r\n",
        "plt.imshow(prob)#, norm = colors.BoundaryNorm([1,2,3,4,5,6,7,8,9,10,11,12,13,14,15], cmap.N), cmap = cmap)"
      ],
      "outputs": [
        {
          "output_type": "execute_result",
          "execution_count": 19,
          "data": {
            "text/plain": "<matplotlib.image.AxesImage at 0x7f088c523be0>"
          },
          "metadata": {}
        },
        {
          "output_type": "display_data",
          "data": {
            "text/plain": "<Figure size 864x864 with 1 Axes>",
            "image/png": "[encoded data removed]"
          },
          "metadata": {
            "needs_background": "light"
          }
        }
      ],
      "execution_count": 19,
      "metadata": {
        "jupyter": {
          "source_hidden": false,
          "outputs_hidden": false
        },
        "nteract": {
          "transient": {
            "deleting": false
          }
        },
        "gather": {
          "logged": 1638287629272
        }
      }
    },
    {
      "cell_type": "code",
      "source": [
        "np.min(prob)"
      ],
      "outputs": [
        {
          "output_type": "execute_result",
          "execution_count": 59,
          "data": {
            "text/plain": "0.8160014748573303"
          },
          "metadata": {}
        }
      ],
      "execution_count": 59,
      "metadata": {
        "jupyter": {
          "source_hidden": false,
          "outputs_hidden": false
        },
        "nteract": {
          "transient": {
            "deleting": false
          }
        },
        "gather": {
          "logged": 1638286596180
        }
      }
    },
    {
      "cell_type": "code",
      "source": [
        "# Folium setup.\r\n",
        "import folium\r\n",
        "print(folium.__version__)\r\n",
        "\r\n",
        "# Define a method for displaying Earth Engine image tiles to a folium map.\r\n",
        "def add_ee_layer(self, ee_image_object, vis_params, name):\r\n",
        "  map_id_dict = ee.Image(ee_image_object).getMapId(vis_params)\r\n",
        "  folium.raster_layers.TileLayer(\r\n",
        "    tiles = map_id_dict['tile_fetcher'].url_format,\r\n",
        "    attr = \"Map Data © Google Earth Engine\",\r\n",
        "    name = name,\r\n",
        "    overlay = True,\r\n",
        "    control = True\r\n",
        "  ).add_to(self)\r\n",
        "\r\n",
        "# Add EE drawing method to folium.\r\n",
        "folium.Map.add_ee_layer = add_ee_layer"
      ],
      "outputs": [
        {
          "output_type": "stream",
          "name": "stdout",
          "text": "0.12.1\n"
        }
      ],
      "execution_count": 20,
      "metadata": {
        "jupyter": {
          "source_hidden": false,
          "outputs_hidden": false
        },
        "nteract": {
          "transient": {
            "deleting": false
          }
        },
        "gather": {
          "logged": 1638287641082
        }
      }
    }
  ],
  "metadata": {
    "kernelspec": {
      "name": "python3-azureml",
      "language": "python",
      "display_name": "Python 3.6 - AzureML"
    },
    "language_info": {
      "name": "python",
      "version": "3.6.9",
      "mimetype": "text/x-python",
      "codemirror_mode": {
        "name": "ipython",
        "version": 3
      },
      "pygments_lexer": "ipython3",
      "nbconvert_exporter": "python",
      "file_extension": ".py"
    },
    "nteract": {
      "version": "nteract-front-end@1.0.0"
    },
    "kernel_info": {
      "name": "python3-azureml"
    },
    "microsoft": {
      "host": {
        "AzureML": {
          "notebookHasBeenCompleted": true
        }
      }
    }
  },
  "nbformat": 4,
  "nbformat_minor": 2
}