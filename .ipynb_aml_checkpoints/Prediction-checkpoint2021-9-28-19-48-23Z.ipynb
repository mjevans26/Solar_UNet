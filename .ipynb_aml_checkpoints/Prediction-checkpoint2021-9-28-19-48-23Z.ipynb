{
  "cells": [
    {
      "cell_type": "code",
      "source": [
        "!pip install rasterio"
      ],
      "outputs": [
        {
          "output_type": "stream",
          "name": "stdout",
          "text": "Requirement already satisfied: rasterio in /anaconda/envs/azureml_py36/lib/python3.6/site-packages (1.2.10)\nRequirement already satisfied: cligj>=0.5 in /anaconda/envs/azureml_py36/lib/python3.6/site-packages (from rasterio) (0.7.2)\nRequirement already satisfied: setuptools in /anaconda/envs/azureml_py36/lib/python3.6/site-packages (from rasterio) (50.3.0)\nRequirement already satisfied: numpy in /anaconda/envs/azureml_py36/lib/python3.6/site-packages (from rasterio) (1.18.5)\nRequirement already satisfied: affine in /anaconda/envs/azureml_py36/lib/python3.6/site-packages (from rasterio) (2.3.0)\nRequirement already satisfied: attrs in /anaconda/envs/azureml_py36/lib/python3.6/site-packages (from rasterio) (21.2.0)\nRequirement already satisfied: certifi in /anaconda/envs/azureml_py36/lib/python3.6/site-packages (from rasterio) (2021.5.30)\nRequirement already satisfied: snuggs>=1.4.1 in /anaconda/envs/azureml_py36/lib/python3.6/site-packages (from rasterio) (1.4.7)\nRequirement already satisfied: click-plugins in /anaconda/envs/azureml_py36/lib/python3.6/site-packages (from rasterio) (1.1.1)\nRequirement already satisfied: click>=4.0 in /anaconda/envs/azureml_py36/lib/python3.6/site-packages (from rasterio) (8.0.1)\nRequirement already satisfied: pyparsing>=2.1.6 in /anaconda/envs/azureml_py36/lib/python3.6/site-packages (from snuggs>=1.4.1->rasterio) (2.4.7)\nRequirement already satisfied: importlib-metadata; python_version < \"3.8\" in /anaconda/envs/azureml_py36/lib/python3.6/site-packages (from click>=4.0->rasterio) (4.4.0)\nRequirement already satisfied: zipp>=0.5 in /anaconda/envs/azureml_py36/lib/python3.6/site-packages (from importlib-metadata; python_version < \"3.8\"->click>=4.0->rasterio) (3.4.1)\nRequirement already satisfied: typing-extensions>=3.6.4; python_version < \"3.8\" in /anaconda/envs/azureml_py36/lib/python3.6/site-packages (from importlib-metadata; python_version < \"3.8\"->click>=4.0->rasterio) (3.10.0.0)\n"
        }
      ],
      "execution_count": 11,
      "metadata": {}
    },
    {
      "cell_type": "code",
      "source": [
        "!pip install folium"
      ],
      "outputs": [
        {
          "output_type": "stream",
          "name": "stdout",
          "text": "Requirement already satisfied: folium in /anaconda/envs/azureml_py36/lib/python3.6/site-packages (0.12.1)\r\nRequirement already satisfied: numpy in /anaconda/envs/azureml_py36/lib/python3.6/site-packages (from folium) (1.18.5)\r\nRequirement already satisfied: jinja2>=2.9 in /anaconda/envs/azureml_py36/lib/python3.6/site-packages (from folium) (2.11.1)\r\nRequirement already satisfied: branca>=0.3.0 in /anaconda/envs/azureml_py36/lib/python3.6/site-packages (from folium) (0.4.2)\r\nRequirement already satisfied: requests in /anaconda/envs/azureml_py36/lib/python3.6/site-packages (from folium) (2.25.1)\r\nRequirement already satisfied: MarkupSafe>=0.23 in /anaconda/envs/azureml_py36/lib/python3.6/site-packages (from jinja2>=2.9->folium) (2.0.1)\r\nRequirement already satisfied: chardet<5,>=3.0.2 in /anaconda/envs/azureml_py36/lib/python3.6/site-packages (from requests->folium) (4.0.0)\r\nRequirement already satisfied: urllib3<1.27,>=1.21.1 in /anaconda/envs/azureml_py36/lib/python3.6/site-packages (from requests->folium) (1.25.11)\r\nRequirement already satisfied: certifi>=2017.4.17 in /anaconda/envs/azureml_py36/lib/python3.6/site-packages (from requests->folium) (2021.5.30)\r\nRequirement already satisfied: idna<3,>=2.5 in /anaconda/envs/azureml_py36/lib/python3.6/site-packages (from requests->folium) (2.10)\r\n"
        }
      ],
      "execution_count": 12,
      "metadata": {
        "collapsed": true,
        "jupyter": {
          "source_hidden": false,
          "outputs_hidden": false
        },
        "nteract": {
          "transient": {
            "deleting": false
          }
        }
      }
    },
    {
      "cell_type": "code",
      "source": [
        "!pip install earthengine-api --upgrade"
      ],
      "outputs": [
        {
          "output_type": "stream",
          "name": "stdout",
          "text": "Collecting earthengine-api\n  Downloading earthengine-api-0.1.288.tar.gz (230 kB)\n\u001b[K     |████████████████████████████████| 230 kB 11.1 MB/s eta 0:00:01\n\u001b[?25hRequirement already satisfied, skipping upgrade: future in /anaconda/envs/azureml_py36/lib/python3.6/site-packages (from earthengine-api) (0.18.2)\nRequirement already satisfied, skipping upgrade: google-cloud-storage in /anaconda/envs/azureml_py36/lib/python3.6/site-packages (from earthengine-api) (1.42.3)\nRequirement already satisfied, skipping upgrade: google-api-python-client<2,>=1.12.1 in /anaconda/envs/azureml_py36/lib/python3.6/site-packages (from earthengine-api) (1.12.8)\nRequirement already satisfied, skipping upgrade: google-auth>=1.4.1 in /anaconda/envs/azureml_py36/lib/python3.6/site-packages (from earthengine-api) (1.31.0)\nRequirement already satisfied, skipping upgrade: google-auth-httplib2>=0.0.3 in /anaconda/envs/azureml_py36/lib/python3.6/site-packages (from earthengine-api) (0.1.0)\nRequirement already satisfied, skipping upgrade: httplib2<1dev,>=0.9.2 in /anaconda/envs/azureml_py36/lib/python3.6/site-packages (from earthengine-api) (0.20.1)\nRequirement already satisfied, skipping upgrade: httplib2shim in /anaconda/envs/azureml_py36/lib/python3.6/site-packages (from earthengine-api) (0.0.3)\nRequirement already satisfied, skipping upgrade: six in /anaconda/envs/azureml_py36/lib/python3.6/site-packages (from earthengine-api) (1.16.0)\nRequirement already satisfied, skipping upgrade: google-cloud-core<3.0dev,>=1.6.0; python_version >= \"3.6\" in /anaconda/envs/azureml_py36/lib/python3.6/site-packages (from google-cloud-storage->earthengine-api) (2.1.0)\nRequirement already satisfied, skipping upgrade: protobuf; python_version >= \"3.6\" in /anaconda/envs/azureml_py36/lib/python3.6/site-packages (from google-cloud-storage->earthengine-api) (3.17.1)\nRequirement already satisfied, skipping upgrade: requests<3.0.0dev,>=2.18.0 in /anaconda/envs/azureml_py36/lib/python3.6/site-packages (from google-cloud-storage->earthengine-api) (2.25.1)\nRequirement already satisfied, skipping upgrade: google-api-core<3.0dev,>=1.29.0; python_version >= \"3.6\" in /anaconda/envs/azureml_py36/lib/python3.6/site-packages (from google-cloud-storage->earthengine-api) (1.30.0)\nRequirement already satisfied, skipping upgrade: google-resumable-media<3.0dev,>=1.3.0; python_version >= \"3.6\" in /anaconda/envs/azureml_py36/lib/python3.6/site-packages (from google-cloud-storage->earthengine-api) (2.1.0)\nRequirement already satisfied, skipping upgrade: uritemplate<4dev,>=3.0.0 in /anaconda/envs/azureml_py36/lib/python3.6/site-packages (from google-api-python-client<2,>=1.12.1->earthengine-api) (3.0.1)\nRequirement already satisfied, skipping upgrade: cachetools<5.0,>=2.0.0 in /anaconda/envs/azureml_py36/lib/python3.6/site-packages (from google-auth>=1.4.1->earthengine-api) (4.2.2)\nRequirement already satisfied, skipping upgrade: pyasn1-modules>=0.2.1 in /anaconda/envs/azureml_py36/lib/python3.6/site-packages (from google-auth>=1.4.1->earthengine-api) (0.2.8)\nRequirement already satisfied, skipping upgrade: setuptools>=40.3.0 in /anaconda/envs/azureml_py36/lib/python3.6/site-packages (from google-auth>=1.4.1->earthengine-api) (50.3.0)\nRequirement already satisfied, skipping upgrade: rsa<5,>=3.1.4; python_version >= \"3.6\" in /anaconda/envs/azureml_py36/lib/python3.6/site-packages (from google-auth>=1.4.1->earthengine-api) (4.7.2)\nRequirement already satisfied, skipping upgrade: pyparsing<3,>=2.4.2 in /anaconda/envs/azureml_py36/lib/python3.6/site-packages (from httplib2<1dev,>=0.9.2->earthengine-api) (2.4.7)\nRequirement already satisfied, skipping upgrade: certifi in /anaconda/envs/azureml_py36/lib/python3.6/site-packages (from httplib2shim->earthengine-api) (2021.5.30)\nRequirement already satisfied, skipping upgrade: urllib3 in /anaconda/envs/azureml_py36/lib/python3.6/site-packages (from httplib2shim->earthengine-api) (1.25.11)\nRequirement already satisfied, skipping upgrade: idna<3,>=2.5 in /anaconda/envs/azureml_py36/lib/python3.6/site-packages (from requests<3.0.0dev,>=2.18.0->google-cloud-storage->earthengine-api) (2.10)\nRequirement already satisfied, skipping upgrade: chardet<5,>=3.0.2 in /anaconda/envs/azureml_py36/lib/python3.6/site-packages (from requests<3.0.0dev,>=2.18.0->google-cloud-storage->earthengine-api) (4.0.0)\nRequirement already satisfied, skipping upgrade: packaging>=14.3 in /anaconda/envs/azureml_py36/lib/python3.6/site-packages (from google-api-core<3.0dev,>=1.29.0; python_version >= \"3.6\"->google-cloud-storage->earthengine-api) (20.9)\nRequirement already satisfied, skipping upgrade: pytz in /anaconda/envs/azureml_py36/lib/python3.6/site-packages (from google-api-core<3.0dev,>=1.29.0; python_version >= \"3.6\"->google-cloud-storage->earthengine-api) (2021.1)\nRequirement already satisfied, skipping upgrade: googleapis-common-protos<2.0dev,>=1.6.0 in /anaconda/envs/azureml_py36/lib/python3.6/site-packages (from google-api-core<3.0dev,>=1.29.0; python_version >= \"3.6\"->google-cloud-storage->earthengine-api) (1.53.0)\nRequirement already satisfied, skipping upgrade: google-crc32c<2.0dev,>=1.0 in /anaconda/envs/azureml_py36/lib/python3.6/site-packages (from google-resumable-media<3.0dev,>=1.3.0; python_version >= \"3.6\"->google-cloud-storage->earthengine-api) (1.3.0)\nRequirement already satisfied, skipping upgrade: pyasn1<0.5.0,>=0.4.6 in /anaconda/envs/azureml_py36/lib/python3.6/site-packages (from pyasn1-modules>=0.2.1->google-auth>=1.4.1->earthengine-api) (0.4.8)\nBuilding wheels for collected packages: earthengine-api\n  Building wheel for earthengine-api (setup.py) ... \u001b[?25l-\b \b\\\b \bdone\n\u001b[?25h  Created wheel for earthengine-api: filename=earthengine_api-0.1.288-py3-none-any.whl size=260051 sha256=390d59a13cc18184fa7721de3596ea2ebe770a93f5480aaf66661d6166b48e30\n  Stored in directory: /home/azureuser/.cache/pip/wheels/06/0b/85/edefcc40c4d90203465bdd1e2ee7990e38cb164ba9cf5172d2\nSuccessfully built earthengine-api\nInstalling collected packages: earthengine-api\n  Attempting uninstall: earthengine-api\n    Found existing installation: earthengine-api 0.1.287\n    Uninstalling earthengine-api-0.1.287:\n      Successfully uninstalled earthengine-api-0.1.287\nSuccessfully installed earthengine-api-0.1.288\n"
        }
      ],
      "execution_count": 13,
      "metadata": {
        "collapsed": true,
        "jupyter": {
          "source_hidden": false,
          "outputs_hidden": false
        },
        "nteract": {
          "transient": {
            "deleting": false
          }
        }
      }
    },
    {
      "cell_type": "code",
      "source": [
        "import ee\r\n",
        "ee.Authenticate()\r\n",
        "ee.Initialize()"
      ],
      "outputs": [
        {
          "output_type": "display_data",
          "data": {
            "text/plain": "<IPython.core.display.HTML object>",
            "text/html": "<p>To authorize access needed by Earth Engine, open the following\n        URL in a web browser and follow the instructions:</p>\n        <p><a href=https://accounts.google.com/o/oauth2/auth?client_id=517222506229-vsmmajv00ul0bs7p89v5m89qs8eb9359.apps.googleusercontent.com&scope=https%3A%2F%2Fwww.googleapis.com%2Fauth%2Fearthengine+https%3A%2F%2Fwww.googleapis.com%2Fauth%2Fdevstorage.full_control&redirect_uri=urn%3Aietf%3Awg%3Aoauth%3A2.0%3Aoob&response_type=code&code_challenge=f04lRJdUm4SKHJPzO5BIPe7rAq7u51ZxAszBAYiFpyg&code_challenge_method=S256>https://accounts.google.com/o/oauth2/auth?client_id=517222506229-vsmmajv00ul0bs7p89v5m89qs8eb9359.apps.googleusercontent.com&scope=https%3A%2F%2Fwww.googleapis.com%2Fauth%2Fearthengine+https%3A%2F%2Fwww.googleapis.com%2Fauth%2Fdevstorage.full_control&redirect_uri=urn%3Aietf%3Awg%3Aoauth%3A2.0%3Aoob&response_type=code&code_challenge=f04lRJdUm4SKHJPzO5BIPe7rAq7u51ZxAszBAYiFpyg&code_challenge_method=S256</a></p>\n        <p>The authorization workflow will generate a code, which you\n        should paste in the box below</p>\n        "
          },
          "metadata": {}
        },
        {
          "output_type": "stream",
          "name": "stdout",
          "text": "\nSuccessfully saved authorization token.\n"
        }
      ],
      "execution_count": 14,
      "metadata": {
        "collapsed": true,
        "jupyter": {
          "source_hidden": false,
          "outputs_hidden": false
        },
        "nteract": {
          "transient": {
            "deleting": false
          }
        },
        "gather": {
          "logged": 1635450291220
        }
      }
    },
    {
      "cell_type": "code",
      "source": [
        "import azureml.core\r\n",
        "from azureml.core import Experiment, Workspace, Dataset, Datastore, ScriptRunConfig, Model\r\n",
        "from azureml.core.environment import Environment\r\n",
        "from azureml.core.conda_dependencies import CondaDependencies\r\n",
        "import os\r\n",
        "import shutil\r\n",
        "import glob\r\n",
        "from os.path import join\r\n",
        "import tensorflow as tf\r\n",
        "#from tensorflow.python.keras import models\r\n",
        "from sys import path\r\n",
        "import numpy as np\r\n",
        "import rasterio as rio\r\n",
        "import json\r\n",
        "\r\n",
        "# check core SDK version number\r\n",
        "\r\n",
        "print(\"Azure ML SDK Version: \", azureml.core.VERSION)"
      ],
      "outputs": [
        {
          "output_type": "stream",
          "name": "stdout",
          "text": "Azure ML SDK Version:  1.30.0\n"
        }
      ],
      "execution_count": 15,
      "metadata": {
        "collapsed": true,
        "jupyter": {
          "source_hidden": false,
          "outputs_hidden": false
        },
        "nteract": {
          "transient": {
            "deleting": false
          }
        },
        "gather": {
          "logged": 1635450295902
        }
      }
    },
    {
      "cell_type": "code",
      "source": [
        "# make sure we have the most current version of github repo\r\n",
        "%cd Satellite_ComputerVision\r\n",
        "!git pull\r\n",
        "%cd .."
      ],
      "outputs": [
        {
          "output_type": "stream",
          "name": "stdout",
          "text": "/mnt/batch/tasks/shared/LS_root/mounts/clusters/mevans1/code/Users/mevans/Satellite_ComputerVision\nAlready up to date.\n/mnt/batch/tasks/shared/LS_root/mounts/clusters/mevans1/code/Users/mevans\n"
        }
      ],
      "execution_count": 16,
      "metadata": {
        "collapsed": true,
        "jupyter": {
          "source_hidden": false,
          "outputs_hidden": false
        },
        "nteract": {
          "transient": {
            "deleting": false
          }
        },
        "gather": {
          "logged": 1635450303345
        }
      }
    },
    {
      "cell_type": "code",
      "source": [
        "# attach our utilities folder to the path to import modules\r\n",
        "path.append('/home/azureuser/cloudfiles/code/Users/mevans/Satellite_ComputerVision')"
      ],
      "outputs": [],
      "execution_count": 17,
      "metadata": {
        "collapsed": true,
        "jupyter": {
          "source_hidden": false,
          "outputs_hidden": false
        },
        "nteract": {
          "transient": {
            "deleting": false
          }
        },
        "gather": {
          "logged": 1635450305525
        }
      }
    },
    {
      "cell_type": "code",
      "source": [
        "from utils.model_tools import get_model, make_confusion_matrix, weighted_bce\r\n",
        "from utils.processing import get_training_dataset, normalize\r\n",
        "from utils.prediction_tools import makePredDataset, make_array_predictions, get_img_bounds\r\n",
        "from utils.clouds import basicQA"
      ],
      "outputs": [],
      "execution_count": 18,
      "metadata": {
        "collapsed": true,
        "jupyter": {
          "source_hidden": false,
          "outputs_hidden": false
        },
        "nteract": {
          "transient": {
            "deleting": false
          }
        },
        "gather": {
          "logged": 1635450306775
        }
      }
    },
    {
      "cell_type": "code",
      "source": [
        "# load workspace configuration from the config.json file in the current folder.\r\n",
        "ws = Workspace.from_config()\r\n",
        "# get metadata about the workspace\r\n",
        "print(ws.name, ws.location, ws.resource_group, sep='\\t')\r\n",
        "# list the registered datastores\r\n",
        "ws.datastores"
      ],
      "outputs": [
        {
          "output_type": "stream",
          "name": "stdout",
          "text": "solar-compviz\teastus2\tplace\n"
        },
        {
          "output_type": "execute_result",
          "execution_count": 19,
          "data": {
            "text/plain": "{'workspaceartifactstore': {\n   \"name\": \"workspaceartifactstore\",\n   \"container_name\": \"azureml\",\n   \"account_name\": \"solarcompviz6161005396\",\n   \"protocol\": \"https\",\n   \"endpoint\": \"core.windows.net\"\n },\n 'solardatafilestore': {\n   \"name\": \"solardatafilestore\",\n   \"container_name\": \"gee-data\",\n   \"account_name\": \"solarcompviz6161005396\",\n   \"protocol\": \"https\",\n   \"endpoint\": \"core.windows.net\"\n },\n 'workspaceblobstore': {\n   \"name\": \"workspaceblobstore\",\n   \"container_name\": \"azureml-blobstore-20200d5f-4836-4a79-bf1c-7bd46e0d0c35\",\n   \"account_name\": \"solarcompviz6161005396\",\n   \"protocol\": \"https\",\n   \"endpoint\": \"core.windows.net\"\n },\n 'workspacefilestore': {\n   \"name\": \"workspacefilestore\",\n   \"container_name\": \"azureml-filestore-20200d5f-4836-4a79-bf1c-7bd46e0d0c35\",\n   \"account_name\": \"solarcompviz6161005396\",\n   \"protocol\": \"https\",\n   \"endpoint\": \"core.windows.net\"\n }}"
          },
          "metadata": {}
        }
      ],
      "execution_count": 19,
      "metadata": {
        "collapsed": true,
        "jupyter": {
          "source_hidden": false,
          "outputs_hidden": false
        },
        "nteract": {
          "transient": {
            "deleting": false
          }
        },
        "gather": {
          "logged": 1635450312724
        }
      }
    },
    {
      "cell_type": "code",
      "source": [
        "# access our registered data share containing image data in this workspace\r\n",
        "datastore = Datastore.get(workspace = ws, datastore_name = 'solardatafilestore')\r\n",
        "\r\n",
        "test_path = (datastore, 'CPK_solar/predict')\r\n",
        "\r\n",
        "gee_train_dataset = Dataset.File.from_files(path = [gee_train_path])\r\n"
      ],
      "outputs": [],
      "execution_count": null,
      "metadata": {
        "jupyter": {
          "source_hidden": false,
          "outputs_hidden": false
        },
        "nteract": {
          "transient": {
            "deleting": false
          }
        }
      }
    },
    {
      "cell_type": "code",
      "source": [
        "experiment_name = ''\r\n",
        "exp = Experiment(workspace = ws, name = experiment_name)"
      ],
      "outputs": [],
      "execution_count": null,
      "metadata": {
        "jupyter": {
          "source_hidden": false,
          "outputs_hidden": false
        },
        "nteract": {
          "transient": {
            "deleting": false
          }
        }
      }
    },
    {
      "cell_type": "code",
      "source": [
        "run_id = ''\r\n",
        "\r\n",
        "run = ws.get_run(run_id)\r\n",
        "\r\n",
        "run.tags\r\n",
        "\r\n",
        "model_name = ''"
      ],
      "outputs": [],
      "execution_count": null,
      "metadata": {
        "jupyter": {
          "source_hidden": false,
          "outputs_hidden": false
        },
        "nteract": {
          "transient": {
            "deleting": false
          }
        }
      }
    },
    {
      "cell_type": "code",
      "source": [
        "# if we haven't already registered our model\r\n",
        "model = run.register_model(model_name= model_name,\r\n",
        "                           tags=run.tags,\r\n",
        "                           description = 'UNET model delineating anthropogenic change in pairs of Sentinel-2 imagery',\r\n",
        "                           model_path='outputs/',\r\n",
        "                           model_framework = 'Tensorflow',\r\n",
        "                           model_framework_version= '2.0',\r\n",
        "                           datasets = [('training', train_dataset), ('evaluation', eval_dataset), ('testing', test_dataset)])\r\n",
        "print(model.name, model.id, model.version, sep='\\t')"
      ],
      "outputs": [],
      "execution_count": null,
      "metadata": {
        "jupyter": {
          "source_hidden": false,
          "outputs_hidden": false
        },
        "nteract": {
          "transient": {
            "deleting": false
          }
        }
      }
    },
    {
      "cell_type": "code",
      "source": [
        "model = Model(ws, model_name)\r\n",
        "model_path = model.get_model_path(model_name, _workspace = ws)"
      ],
      "outputs": [],
      "execution_count": null,
      "metadata": {
        "jupyter": {
          "source_hidden": false,
          "outputs_hidden": false
        },
        "nteract": {
          "transient": {
            "deleting": false
          }
        }
      }
    },
    {
      "cell_type": "code",
      "source": [
        "model_dir = Model.get_model_path(model_name)\r\n",
        "weights_path = glob.glob(os.path.join(model_dir, '*.hdf5'))\r\n",
        "model_path = glob.glob(os.path.join(model_dir, '*.h5'))\r\n",
        "weights_path\r\n",
        "model_path"
      ],
      "outputs": [],
      "execution_count": null,
      "metadata": {
        "jupyter": {
          "source_hidden": false,
          "outputs_hidden": false
        },
        "nteract": {
          "transient": {
            "deleting": false
          }
        }
      }
    },
    {
      "cell_type": "code",
      "source": [
        "def get_weighted_bce(y_true,y_pred):\r\n",
        "  return weighted_bce(y_true, y_pred, 1)\r\n",
        "m = models.load_model(f'{model_path[0]}', custom_objects = {'get_weighted_bce': get_weighted_bce})\r\n",
        "# m = get_model(depth = DEPTH, optim = OPTIMIZER, loss = get_weighted_bce, mets = METRICS, bias = None)\r\n",
        "m.load_weights(f'{weights_path[0]}')"
      ],
      "outputs": [],
      "execution_count": null,
      "metadata": {
        "jupyter": {
          "source_hidden": false,
          "outputs_hidden": false
        },
        "nteract": {
          "transient": {
            "deleting": false
          }
        }
      }
    },
    {
      "cell_type": "code",
      "source": [
        "# Create mountcontext and mount the dataset\r\n",
        "aoi = 'WetlandMA'\r\n",
        "test_path = (datastore, f'GEE/predict/{aoi}')\r\n",
        "test_dataset = Dataset.File.from_files(path = [test_path])\r\n",
        "\r\n",
        "test_mount = test_dataset.mount()\r\n",
        "\r\n",
        "# open access to the mount point\r\n",
        "test_mount.start() \r\n",
        "\r\n",
        "# Get the mount point\r\n",
        "dataset_mount_folder = test_mount.mount_point\r\n",
        "print(dataset_mount_folder)\r\n",
        "\r\n",
        "testFiles = []\r\n",
        "\r\n",
        "for root, dirs, files in os.walk(dataset_mount_folder):\r\n",
        "    for f in files:\r\n",
        "        testFiles.append(join(root, f))"
      ],
      "outputs": [],
      "execution_count": null,
      "metadata": {
        "jupyter": {
          "source_hidden": false,
          "outputs_hidden": false
        },
        "nteract": {
          "transient": {
            "deleting": false
          }
        }
      }
    },
    {
      "cell_type": "code",
      "source": [
        "# Define some global variabes\r\n",
        "\r\n",
        "BANDS = ['B2', 'B3', 'B4', 'B8', 'B2_1', 'B3_1', 'B4_1', 'B8_1']\r\n",
        "RESPONSE = 'change'\r\n",
        "FEATURES = BANDS + [RESPONSE]\r\n",
        "print(FEATURES)\r\n",
        "DEPTH = len(FEATURES)\r\n",
        "\r\n",
        "# Specify the size and shape of patches expected by the model.\r\n",
        "KERNEL_SIZE = 256\r\n",
        "KERNEL_SHAPE = [KERNEL_SIZE, KERNEL_SIZE]\r\n",
        "COLUMNS = [\r\n",
        "  tf.io.FixedLenFeature(shape=KERNEL_SHAPE, dtype=tf.float32) for k in FEATURES\r\n",
        "]\r\n",
        "FEATURES_DICT = dict(zip(FEATURES, COLUMNS))\r\n",
        "\r\n",
        "OPTIMIZER = tf.keras.optimizers.Adam(learning_rate=0.0001, beta_1=0.9, beta_2=0.999)\r\n",
        "\r\n",
        "METRICS = {\r\n",
        "    'logits':[tf.keras.metrics.MeanSquaredError(name='mse'), tf.keras.metrics.Precision(name='precision'), tf.keras.metrics.Recall(name='recall')],\r\n",
        "    'classes':[tf.keras.metrics.MeanIoU(num_classes=2, name = 'mean_iou')]\r\n",
        "    }"
      ],
      "outputs": [],
      "execution_count": null,
      "metadata": {
        "jupyter": {
          "source_hidden": false,
          "outputs_hidden": false
        },
        "nteract": {
          "transient": {
            "deleting": false
          }
        }
      }
    },
    {
      "cell_type": "code",
      "source": [
        "predFiles = glob.glob(os.path.join(dataset_mount_folder, '*.gz'))\r\n",
        "predFiles"
      ],
      "outputs": [],
      "execution_count": null,
      "metadata": {
        "jupyter": {
          "source_hidden": false,
          "outputs_hidden": false
        },
        "nteract": {
          "transient": {
            "deleting": false
          }
        }
      }
    },
    {
      "cell_type": "code",
      "source": [
        "jsonFiles = [x for x in testFiles if '.json' in x]\r\n",
        "jsonFiles\r\n",
        "jsonFile = jsonFiles[0]"
      ],
      "outputs": [],
      "execution_count": null,
      "metadata": {
        "jupyter": {
          "source_hidden": false,
          "outputs_hidden": false
        },
        "nteract": {
          "transient": {
            "deleting": false
          }
        }
      }
    },
    {
      "cell_type": "code",
      "source": [
        "predData = makePredDataset(predFiles, BANDS, one_hot = None)\r\n",
        "iterator = iter(predData)\r\n",
        "print(iterator.next())"
      ],
      "outputs": [],
      "execution_count": null,
      "metadata": {
        "jupyter": {
          "source_hidden": false,
          "outputs_hidden": false
        },
        "nteract": {
          "transient": {
            "deleting": false
          }
        }
      }
    },
    {
      "cell_type": "code",
      "source": [
        "preds = make_array_predictions(imageDataset = predData, model = m, jsonFile = jsonFile)"
      ],
      "outputs": [],
      "execution_count": null,
      "metadata": {
        "jupyter": {
          "source_hidden": false,
          "outputs_hidden": false
        },
        "nteract": {
          "transient": {
            "deleting": false
          }
        }
      }
    },
    {
      "cell_type": "code",
      "source": [
        "# We can visualize the predictions here in the notebook\r\n",
        "from matplotlib import pyplot as plt\r\n",
        "from matplotlib import colors\r\n",
        "\r\n",
        "figure = plt.figure(figsize = (12,12))\r\n",
        "# cmap = colors.ListedColormap(['#5dc5f1', '#50a886', '#3d6e1d', '#80e144', '#bafb85', '#d4a13e', \"#e73522\", \"#9c9c9c\", \"#000000\", \"#706e22\", \"#e7e64b\", \"#fefc86\", '#ad36ed'])\r\n",
        "prob = preds[:, :, 0]\r\n",
        "# cls = out_image[:, :, 0]\r\n",
        "\r\n",
        "plt.imshow(prob)#, norm = colors.BoundaryNorm([1,2,3,4,5,6,7,8,9,10,11,12,13,14,15], cmap.N), cmap = cmap)"
      ],
      "outputs": [],
      "execution_count": null,
      "metadata": {
        "jupyter": {
          "source_hidden": false,
          "outputs_hidden": false
        },
        "nteract": {
          "transient": {
            "deleting": false
          }
        }
      }
    },
    {
      "cell_type": "code",
      "source": [
        "# Folium setup.\r\n",
        "import folium\r\n",
        "print(folium.__version__)\r\n",
        "\r\n",
        "# Define a method for displaying Earth Engine image tiles to a folium map.\r\n",
        "def add_ee_layer(self, ee_image_object, vis_params, name):\r\n",
        "  map_id_dict = ee.Image(ee_image_object).getMapId(vis_params)\r\n",
        "  folium.raster_layers.TileLayer(\r\n",
        "    tiles = map_id_dict['tile_fetcher'].url_format,\r\n",
        "    attr = \"Map Data © Google Earth Engine\",\r\n",
        "    name = name,\r\n",
        "    overlay = True,\r\n",
        "    control = True\r\n",
        "  ).add_to(self)\r\n",
        "\r\n",
        "# Add EE drawing method to folium.\r\n",
        "folium.Map.add_ee_layer = add_ee_layer"
      ],
      "outputs": [],
      "execution_count": null,
      "metadata": {
        "jupyter": {
          "source_hidden": false,
          "outputs_hidden": false
        },
        "nteract": {
          "transient": {
            "deleting": false
          }
        }
      }
    }
  ],
  "metadata": {
    "kernelspec": {
      "name": "python3-azureml",
      "language": "python",
      "display_name": "Python 3.6 - AzureML"
    },
    "language_info": {
      "name": "python",
      "version": "3.6.9",
      "mimetype": "text/x-python",
      "codemirror_mode": {
        "name": "ipython",
        "version": 3
      },
      "pygments_lexer": "ipython3",
      "nbconvert_exporter": "python",
      "file_extension": ".py"
    },
    "nteract": {
      "version": "nteract-front-end@1.0.0"
    },
    "kernel_info": {
      "name": "python3-azureml"
    }
  },
  "nbformat": 4,
  "nbformat_minor": 2
}