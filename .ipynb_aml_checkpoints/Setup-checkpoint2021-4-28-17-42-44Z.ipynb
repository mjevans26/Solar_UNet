{
  "cells": [
    {
      "cell_type": "code",
      "source": [
        "import azureml.core\r\n",
        "from azureml.core import Experiment, Workspace, Dataset, Datastore, ScriptRunConfig\r\n",
        "import os\r\n",
        "import shutil\r\n",
        "\r\n",
        "# check core SDK version number\r\n",
        "\r\n",
        "print(\"Azure ML SDK Version: \", azureml.core.VERSION)"
      ],
      "outputs": [
        {
          "output_type": "stream",
          "name": "stdout",
          "text": [
            "Azure ML SDK Version:  1.18.0\n"
          ]
        }
      ],
      "execution_count": 2,
      "metadata": {
        "gather": {
          "logged": 1618434006006
        }
      }
    },
    {
      "cell_type": "code",
      "source": [
        "# load workspace configuration from the config.json file in the current folder.\r\n",
        "ws = Workspace.from_config()\r\n",
        "# get metadata about the workspace\r\n",
        "print(ws.name, ws.location, ws.resource_group, sep='\\t')\r\n",
        "# list the registered datastores\r\n",
        "ws.datastores"
      ],
      "outputs": [
        {
          "output_type": "stream",
          "name": "stdout",
          "text": [
            "solar-compviz\teastus2\tPLACE\n"
          ]
        },
        {
          "output_type": "execute_result",
          "execution_count": 4,
          "data": {
            "text/plain": "{'solardatafilestore': {\n   \"name\": \"solardatafilestore\",\n   \"container_name\": \"gee-data\",\n   \"account_name\": \"solarcompviz6161005396\",\n   \"protocol\": \"https\",\n   \"endpoint\": \"core.windows.net\"\n },\n 'workspaceblobstore': {\n   \"name\": \"workspaceblobstore\",\n   \"container_name\": \"azureml-blobstore-20200d5f-4836-4a79-bf1c-7bd46e0d0c35\",\n   \"account_name\": \"solarcompviz6161005396\",\n   \"protocol\": \"https\",\n   \"endpoint\": \"core.windows.net\"\n },\n 'workspacefilestore': {\n   \"name\": \"workspacefilestore\",\n   \"container_name\": \"azureml-filestore-20200d5f-4836-4a79-bf1c-7bd46e0d0c35\",\n   \"account_name\": \"solarcompviz6161005396\",\n   \"protocol\": \"https\",\n   \"endpoint\": \"core.windows.net\"\n }}"
          },
          "metadata": {}
        }
      ],
      "execution_count": 4,
      "metadata": {
        "collapsed": true,
        "jupyter": {
          "source_hidden": false,
          "outputs_hidden": false
        },
        "nteract": {
          "transient": {
            "deleting": false
          }
        },
        "gather": {
          "logged": 1618434022843
        }
      }
    },
    {
      "cell_type": "code",
      "source": [
        "# register our data share containing image data in this workspace\r\n",
        "Datastore.register_azure_file_share(\r\n",
        "    account_key = 'andMlwgRrZ68ybpJ3d24F9pffr+tqPxlnLxM6qqB8gD75BvMrQKr/6IbvUpRy8cBPytynlLoc78iN2TFU7rWPA==',\r\n",
        "    workspace = ws,\r\n",
        "    datastore_name = 'solardatafilestore',\r\n",
        "    file_share_name = 'gee-data',\r\n",
        "    account_name = 'solarcompviz6161005396')"
      ],
      "outputs": [
        {
          "output_type": "execute_result",
          "execution_count": 4,
          "data": {
            "text/plain": "{\n  \"name\": \"solardatafilestore\",\n  \"container_name\": \"gee-data\",\n  \"account_name\": \"solarcompviz6161005396\",\n  \"protocol\": \"https\",\n  \"endpoint\": \"core.windows.net\"\n}"
          },
          "metadata": {}
        }
      ],
      "execution_count": 4,
      "metadata": {
        "collapsed": true,
        "jupyter": {
          "source_hidden": false,
          "outputs_hidden": false
        },
        "nteract": {
          "transient": {
            "deleting": false
          }
        },
        "gather": {
          "logged": 1618432387519
        }
      }
    },
    {
      "cell_type": "code",
      "source": [
        "# create a file dataset that can be used in training\r\n",
        "datastore = Datastore.get(workspace = ws, datastore_name = 'solardatafilestore')\r\n",
        "datastore_paths = [(datastore, 'CPK_solar'), (datastore, 'NC_solar')]\r\n",
        "cpk_dataset = Dataset.File.from_files(path = datastore_paths[0])\r\n",
        "nc_dataset = Dataset.File.from_files(path = datastore_paths[1])\r\n",
        "\r\n",
        "cpk_dataset = cpk_dataset.register(\r\n",
        "    workspace=ws,\r\n",
        "    name='gee-cpk-solar-data',\r\n",
        "    description='training and eval TFRecords for solar arrays exported from GEE',\r\n",
        "    create_new_version=True)\r\n",
        "\r\n",
        "nc_dataset = nc_dataset.register(\r\n",
        "    workspace=ws,\r\n",
        "    name='gee-nc-solar-data',\r\n",
        "    description='training and eval TFRecords for solar arrays exported from GEE',\r\n",
        "    create_new_version=True)"
      ],
      "outputs": [],
      "execution_count": 5,
      "metadata": {
        "collapsed": true,
        "jupyter": {
          "source_hidden": false,
          "outputs_hidden": false
        },
        "nteract": {
          "transient": {
            "deleting": false
          }
        },
        "gather": {
          "logged": 1618434040352
        }
      }
    }
  ],
  "metadata": {
    "kernelspec": {
      "name": "python3-azureml",
      "language": "python",
      "display_name": "Python 3.6 - AzureML"
    },
    "language_info": {
      "name": "python",
      "version": "3.6.9",
      "mimetype": "text/x-python",
      "codemirror_mode": {
        "name": "ipython",
        "version": 3
      },
      "pygments_lexer": "ipython3",
      "nbconvert_exporter": "python",
      "file_extension": ".py"
    },
    "kernel_info": {
      "name": "python3-azureml"
    },
    "nteract": {
      "version": "nteract-front-end@1.0.0"
    },
    "microsoft": {
      "host": {
        "AzureML": {
          "notebookHasBeenCompleted": true
        }
      }
    }
  },
  "nbformat": 4,
  "nbformat_minor": 2
}