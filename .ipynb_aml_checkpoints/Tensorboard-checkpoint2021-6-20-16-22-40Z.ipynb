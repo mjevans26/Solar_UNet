{
  "cells": [
    {
      "cell_type": "code",
      "source": [
        "from azureml.tensorboard import Tensorboard\r\n",
        "from azureml.core import Experiment, Environment, Workspace, Datastore, Dataset, Model, ScriptRunConfig\r\n",
        "import os\r\n",
        "import glob\r\n",
        "# get the current workspace\r\n",
        "ws = Workspace.from_config()"
      ],
      "outputs": [],
      "execution_count": 33,
      "metadata": {
        "gather": {
          "logged": 1626305526329
        }
      }
    },
    {
      "cell_type": "code",
      "source": [
        "model = run.register_model(model_name='acd-unet-geeOnera',\r\n",
        "                           tags=run.tags,\r\n",
        "                           description = 'UNET model delineating anthropogenic land cover change in S2 imagery. Trained on GEE + Onera data.',\r\n",
        "                           model_path='outputs/',\r\n",
        "                           model_framework = 'Tensorflow',\r\n",
        "                           model_framework_version= '2.0',\r\n",
        "                           datasets = [('training', gee_train_dataset), ('evaluation', eval_dataset), ('testing', test_dataset)])\r\n",
        "print(model.name, model.id, model.version, sep='\\t')"
      ],
      "outputs": [],
      "execution_count": null,
      "metadata": {
        "collapsed": true,
        "jupyter": {
          "source_hidden": false,
          "outputs_hidden": false
        },
        "nteract": {
          "transient": {
            "deleting": false
          }
        }
      }
    },
    {
      "cell_type": "code",
      "source": [
        "run_id = 'solar-nc-cpk_1625110549_258bbfea'\r\n",
        "\r\n",
        "run = ws.get_run(run_id)\r\n",
        "\r\n",
        "run.get_file_names()\r\n",
        "# The TensorBoard constructor takes an array of runs, so be sure and pass it in as a single-element array here\r\n",
        "tb = Tensorboard([run])\r\n",
        "# tb = Tensorboard([], local_root = '/home/azureuser/cloudfiles/code/Users/mevans/logs', port = 6006)\r\n",
        "\r\n",
        "# If successful, start() returns a string with the URI of the instance.\r\n",
        "tb.start()"
      ],
      "outputs": [
        {
          "output_type": "stream",
          "name": "stdout",
          "text": [
            "https://test-compute-instance-6006.eastus2.instances.azureml.ms\n"
          ]
        },
        {
          "output_type": "execute_result",
          "execution_count": 36,
          "data": {
            "text/plain": "'https://test-compute-instance-6006.eastus2.instances.azureml.ms'"
          },
          "metadata": {}
        }
      ],
      "execution_count": 36,
      "metadata": {
        "collapsed": true,
        "jupyter": {
          "source_hidden": false,
          "outputs_hidden": false
        },
        "nteract": {
          "transient": {
            "deleting": false
          }
        },
        "gather": {
          "logged": 1626305589983
        }
      }
    },
    {
      "cell_type": "code",
      "source": [
        "tb.stop()"
      ],
      "outputs": [],
      "execution_count": 37,
      "metadata": {
        "collapsed": true,
        "jupyter": {
          "source_hidden": false,
          "outputs_hidden": false
        },
        "nteract": {
          "transient": {
            "deleting": false
          }
        },
        "gather": {
          "logged": 1626305628825
        }
      }
    }
  ],
  "metadata": {
    "kernelspec": {
      "name": "python3-azureml",
      "language": "python",
      "display_name": "Python 3.6 - AzureML"
    },
    "language_info": {
      "name": "python",
      "version": "3.6.9",
      "mimetype": "text/x-python",
      "codemirror_mode": {
        "name": "ipython",
        "version": 3
      },
      "pygments_lexer": "ipython3",
      "nbconvert_exporter": "python",
      "file_extension": ".py"
    },
    "kernel_info": {
      "name": "python3-azureml"
    },
    "nteract": {
      "version": "nteract-front-end@1.0.0"
    },
    "microsoft": {
      "host": {
        "AzureML": {
          "notebookHasBeenCompleted": true
        }
      }
    }
  },
  "nbformat": 4,
  "nbformat_minor": 2
}