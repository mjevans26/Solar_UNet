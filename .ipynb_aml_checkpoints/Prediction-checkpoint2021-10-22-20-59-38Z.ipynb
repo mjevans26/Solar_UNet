{
  "cells": [
    {
      "cell_type": "code",
      "source": [
        "!pip install rasterio"
      ],
      "outputs": [
        {
          "output_type": "stream",
          "name": "stdout",
          "text": "Requirement already satisfied: rasterio in /anaconda/envs/azureml_py36/lib/python3.6/site-packages (1.2.10)\nRequirement already satisfied: affine in /anaconda/envs/azureml_py36/lib/python3.6/site-packages (from rasterio) (2.3.0)\nRequirement already satisfied: click-plugins in /anaconda/envs/azureml_py36/lib/python3.6/site-packages (from rasterio) (1.1.1)\nRequirement already satisfied: setuptools in /anaconda/envs/azureml_py36/lib/python3.6/site-packages (from rasterio) (50.3.0)\nRequirement already satisfied: cligj>=0.5 in /anaconda/envs/azureml_py36/lib/python3.6/site-packages (from rasterio) (0.7.2)\nRequirement already satisfied: numpy in /anaconda/envs/azureml_py36/lib/python3.6/site-packages (from rasterio) (1.19.5)\nRequirement already satisfied: snuggs>=1.4.1 in /anaconda/envs/azureml_py36/lib/python3.6/site-packages (from rasterio) (1.4.7)\nRequirement already satisfied: certifi in /anaconda/envs/azureml_py36/lib/python3.6/site-packages (from rasterio) (2021.5.30)\nRequirement already satisfied: attrs in /anaconda/envs/azureml_py36/lib/python3.6/site-packages (from rasterio) (21.2.0)\nRequirement already satisfied: click>=4.0 in /anaconda/envs/azureml_py36/lib/python3.6/site-packages (from rasterio) (8.0.1)\nRequirement already satisfied: pyparsing>=2.1.6 in /anaconda/envs/azureml_py36/lib/python3.6/site-packages (from snuggs>=1.4.1->rasterio) (2.4.7)\nRequirement already satisfied: importlib-metadata; python_version < \"3.8\" in /anaconda/envs/azureml_py36/lib/python3.6/site-packages (from click>=4.0->rasterio) (4.4.0)\nRequirement already satisfied: zipp>=0.5 in /anaconda/envs/azureml_py36/lib/python3.6/site-packages (from importlib-metadata; python_version < \"3.8\"->click>=4.0->rasterio) (3.4.1)\nRequirement already satisfied: typing-extensions>=3.6.4; python_version < \"3.8\" in /anaconda/envs/azureml_py36/lib/python3.6/site-packages (from importlib-metadata; python_version < \"3.8\"->click>=4.0->rasterio) (3.10.0.0)\n"
        }
      ],
      "execution_count": 1,
      "metadata": {}
    },
    {
      "cell_type": "code",
      "source": [
        "!pip install 'h5py==2.10.0' --force-reinstall"
      ],
      "outputs": [
        {
          "output_type": "stream",
          "name": "stdout",
          "text": "Collecting h5py==2.10.0\n  Using cached h5py-2.10.0-cp36-cp36m-manylinux1_x86_64.whl (2.9 MB)\nCollecting six\n  Using cached six-1.16.0-py2.py3-none-any.whl (11 kB)\nCollecting numpy>=1.7\n  Using cached numpy-1.19.5-cp36-cp36m-manylinux2010_x86_64.whl (14.8 MB)\n\u001b[31mERROR: tensorflow 2.1.0 has requirement scipy==1.4.1; python_version >= \"3\", but you'll have scipy 1.5.2 which is incompatible.\u001b[0m\n\u001b[31mERROR: tensorflow-gpu 2.1.0 has requirement scipy==1.4.1; python_version >= \"3\", but you'll have scipy 1.5.2 which is incompatible.\u001b[0m\n\u001b[31mERROR: raiwidgets 0.2.2 has requirement lightgbm>=3.1.1, but you'll have lightgbm 2.3.0 which is incompatible.\u001b[0m\n\u001b[31mERROR: econml 0.12.0b1 has requirement shap~=0.38.1, but you'll have shap 0.34.0 which is incompatible.\u001b[0m\n\u001b[31mERROR: azureml-train-automl-runtime 1.30.0 has requirement numpy<1.19.0,>=1.16.0, but you'll have numpy 1.19.5 which is incompatible.\u001b[0m\n\u001b[31mERROR: azureml-opendatasets 1.30.0 has requirement numpy<=1.19.0,>=1.16.0, but you'll have numpy 1.19.5 which is incompatible.\u001b[0m\n\u001b[31mERROR: azureml-opendatasets 1.30.0 has requirement scipy<=1.4.1,>=1.0.0, but you'll have scipy 1.5.2 which is incompatible.\u001b[0m\n\u001b[31mERROR: azureml-automl-runtime 1.30.0 has requirement numpy<1.19.0,>=1.16.0, but you'll have numpy 1.19.5 which is incompatible.\u001b[0m\n\u001b[31mERROR: azure-cli 2.24.2 has requirement azure-graphrbac~=0.60.0, but you'll have azure-graphrbac 0.61.1 which is incompatible.\u001b[0m\n\u001b[31mERROR: azure-cli 2.24.2 has requirement azure-mgmt-containerregistry==3.0.0rc17, but you'll have azure-mgmt-containerregistry 8.0.0 which is incompatible.\u001b[0m\n\u001b[31mERROR: azure-cli 2.24.2 has requirement azure-mgmt-resource==18.0.0, but you'll have azure-mgmt-resource 13.0.0 which is incompatible.\u001b[0m\n\u001b[31mERROR: azure-cli 2.24.2 has requirement azure-mgmt-storage~=18.0.0, but you'll have azure-mgmt-storage 11.2.0 which is incompatible.\u001b[0m\n\u001b[31mERROR: azure-cli 2.24.2 has requirement pytz==2019.1, but you'll have pytz 2021.1 which is incompatible.\u001b[0m\n\u001b[31mERROR: azure-cli 2.24.2 has requirement websocket-client~=0.56.0, but you'll have websocket-client 1.0.1 which is incompatible.\u001b[0m\n\u001b[31mERROR: azure-cli-core 2.24.2 has requirement cryptography<3.4,>=3.2, but you'll have cryptography 3.4.7 which is incompatible.\u001b[0m\n\u001b[31mERROR: azure-cli-core 2.24.2 has requirement PyJWT==1.7.1, but you'll have pyjwt 2.1.0 which is incompatible.\u001b[0m\n\u001b[31mERROR: autokeras 1.0.14 has requirement tensorflow>=2.3.0, but you'll have tensorflow 2.1.0 which is incompatible.\u001b[0m\nInstalling collected packages: six, numpy, h5py\n  Attempting uninstall: six\n    Found existing installation: six 1.16.0\n    Uninstalling six-1.16.0:\n      Successfully uninstalled six-1.16.0\n  Attempting uninstall: numpy\n    Found existing installation: numpy 1.19.5\n    Uninstalling numpy-1.19.5:\n      Successfully uninstalled numpy-1.19.5\n  Attempting uninstall: h5py\n    Found existing installation: h5py 2.10.0\n    Uninstalling h5py-2.10.0:\n      Successfully uninstalled h5py-2.10.0\nSuccessfully installed h5py-2.10.0 numpy-1.19.5 six-1.16.0\n"
        }
      ],
      "execution_count": 2,
      "metadata": {
        "jupyter": {
          "source_hidden": false,
          "outputs_hidden": false
        },
        "nteract": {
          "transient": {
            "deleting": false
          }
        }
      }
    },
    {
      "cell_type": "code",
      "source": [
        "!pip install folium"
      ],
      "outputs": [
        {
          "output_type": "stream",
          "name": "stdout",
          "text": "Requirement already satisfied: folium in /anaconda/envs/azureml_py36/lib/python3.6/site-packages (0.12.1)\r\nRequirement already satisfied: requests in /anaconda/envs/azureml_py36/lib/python3.6/site-packages (from folium) (2.25.1)\r\nRequirement already satisfied: branca>=0.3.0 in /anaconda/envs/azureml_py36/lib/python3.6/site-packages (from folium) (0.4.2)\r\nRequirement already satisfied: numpy in /anaconda/envs/azureml_py36/lib/python3.6/site-packages (from folium) (1.19.5)\r\nRequirement already satisfied: jinja2>=2.9 in /anaconda/envs/azureml_py36/lib/python3.6/site-packages (from folium) (2.11.1)\r\nRequirement already satisfied: urllib3<1.27,>=1.21.1 in /anaconda/envs/azureml_py36/lib/python3.6/site-packages (from requests->folium) (1.25.11)\r\nRequirement already satisfied: certifi>=2017.4.17 in /anaconda/envs/azureml_py36/lib/python3.6/site-packages (from requests->folium) (2021.5.30)\r\nRequirement already satisfied: chardet<5,>=3.0.2 in /anaconda/envs/azureml_py36/lib/python3.6/site-packages (from requests->folium) (4.0.0)\r\nRequirement already satisfied: idna<3,>=2.5 in /anaconda/envs/azureml_py36/lib/python3.6/site-packages (from requests->folium) (2.10)\r\nRequirement already satisfied: MarkupSafe>=0.23 in /anaconda/envs/azureml_py36/lib/python3.6/site-packages (from jinja2>=2.9->folium) (2.0.1)\r\n"
        }
      ],
      "execution_count": 3,
      "metadata": {
        "collapsed": true,
        "jupyter": {
          "source_hidden": false,
          "outputs_hidden": false
        },
        "nteract": {
          "transient": {
            "deleting": false
          }
        }
      }
    },
    {
      "cell_type": "code",
      "source": [
        "!pip install earthengine-api --upgrade"
      ],
      "outputs": [
        {
          "output_type": "stream",
          "name": "stdout",
          "text": "Requirement already up-to-date: earthengine-api in /anaconda/envs/azureml_py36/lib/python3.6/site-packages (0.1.288)\nRequirement already satisfied, skipping upgrade: google-cloud-storage in /anaconda/envs/azureml_py36/lib/python3.6/site-packages (from earthengine-api) (1.42.3)\nRequirement already satisfied, skipping upgrade: google-auth-httplib2>=0.0.3 in /anaconda/envs/azureml_py36/lib/python3.6/site-packages (from earthengine-api) (0.1.0)\nRequirement already satisfied, skipping upgrade: httplib2<1dev,>=0.9.2 in /anaconda/envs/azureml_py36/lib/python3.6/site-packages (from earthengine-api) (0.20.1)\nRequirement already satisfied, skipping upgrade: google-api-python-client<2,>=1.12.1 in /anaconda/envs/azureml_py36/lib/python3.6/site-packages (from earthengine-api) (1.12.8)\nRequirement already satisfied, skipping upgrade: google-auth>=1.4.1 in /anaconda/envs/azureml_py36/lib/python3.6/site-packages (from earthengine-api) (1.31.0)\nRequirement already satisfied, skipping upgrade: httplib2shim in /anaconda/envs/azureml_py36/lib/python3.6/site-packages (from earthengine-api) (0.0.3)\nRequirement already satisfied, skipping upgrade: six in /anaconda/envs/azureml_py36/lib/python3.6/site-packages (from earthengine-api) (1.16.0)\nRequirement already satisfied, skipping upgrade: future in /anaconda/envs/azureml_py36/lib/python3.6/site-packages (from earthengine-api) (0.18.2)\nRequirement already satisfied, skipping upgrade: google-api-core<3.0dev,>=1.29.0; python_version >= \"3.6\" in /anaconda/envs/azureml_py36/lib/python3.6/site-packages (from google-cloud-storage->earthengine-api) (1.30.0)\nRequirement already satisfied, skipping upgrade: google-resumable-media<3.0dev,>=1.3.0; python_version >= \"3.6\" in /anaconda/envs/azureml_py36/lib/python3.6/site-packages (from google-cloud-storage->earthengine-api) (2.1.0)\nRequirement already satisfied, skipping upgrade: protobuf; python_version >= \"3.6\" in /anaconda/envs/azureml_py36/lib/python3.6/site-packages (from google-cloud-storage->earthengine-api) (3.17.1)\nRequirement already satisfied, skipping upgrade: google-cloud-core<3.0dev,>=1.6.0; python_version >= \"3.6\" in /anaconda/envs/azureml_py36/lib/python3.6/site-packages (from google-cloud-storage->earthengine-api) (2.1.0)\nRequirement already satisfied, skipping upgrade: requests<3.0.0dev,>=2.18.0 in /anaconda/envs/azureml_py36/lib/python3.6/site-packages (from google-cloud-storage->earthengine-api) (2.25.1)\nRequirement already satisfied, skipping upgrade: pyparsing<3,>=2.4.2 in /anaconda/envs/azureml_py36/lib/python3.6/site-packages (from httplib2<1dev,>=0.9.2->earthengine-api) (2.4.7)\nRequirement already satisfied, skipping upgrade: uritemplate<4dev,>=3.0.0 in /anaconda/envs/azureml_py36/lib/python3.6/site-packages (from google-api-python-client<2,>=1.12.1->earthengine-api) (3.0.1)\nRequirement already satisfied, skipping upgrade: pyasn1-modules>=0.2.1 in /anaconda/envs/azureml_py36/lib/python3.6/site-packages (from google-auth>=1.4.1->earthengine-api) (0.2.8)\nRequirement already satisfied, skipping upgrade: setuptools>=40.3.0 in /anaconda/envs/azureml_py36/lib/python3.6/site-packages (from google-auth>=1.4.1->earthengine-api) (50.3.0)\nRequirement already satisfied, skipping upgrade: cachetools<5.0,>=2.0.0 in /anaconda/envs/azureml_py36/lib/python3.6/site-packages (from google-auth>=1.4.1->earthengine-api) (4.2.2)\nRequirement already satisfied, skipping upgrade: rsa<5,>=3.1.4; python_version >= \"3.6\" in /anaconda/envs/azureml_py36/lib/python3.6/site-packages (from google-auth>=1.4.1->earthengine-api) (4.7.2)\nRequirement already satisfied, skipping upgrade: certifi in /anaconda/envs/azureml_py36/lib/python3.6/site-packages (from httplib2shim->earthengine-api) (2021.5.30)\nRequirement already satisfied, skipping upgrade: urllib3 in /anaconda/envs/azureml_py36/lib/python3.6/site-packages (from httplib2shim->earthengine-api) (1.25.11)\nRequirement already satisfied, skipping upgrade: googleapis-common-protos<2.0dev,>=1.6.0 in /anaconda/envs/azureml_py36/lib/python3.6/site-packages (from google-api-core<3.0dev,>=1.29.0; python_version >= \"3.6\"->google-cloud-storage->earthengine-api) (1.53.0)\nRequirement already satisfied, skipping upgrade: pytz in /anaconda/envs/azureml_py36/lib/python3.6/site-packages (from google-api-core<3.0dev,>=1.29.0; python_version >= \"3.6\"->google-cloud-storage->earthengine-api) (2021.1)\nRequirement already satisfied, skipping upgrade: packaging>=14.3 in /anaconda/envs/azureml_py36/lib/python3.6/site-packages (from google-api-core<3.0dev,>=1.29.0; python_version >= \"3.6\"->google-cloud-storage->earthengine-api) (20.9)\nRequirement already satisfied, skipping upgrade: google-crc32c<2.0dev,>=1.0 in /anaconda/envs/azureml_py36/lib/python3.6/site-packages (from google-resumable-media<3.0dev,>=1.3.0; python_version >= \"3.6\"->google-cloud-storage->earthengine-api) (1.3.0)\nRequirement already satisfied, skipping upgrade: idna<3,>=2.5 in /anaconda/envs/azureml_py36/lib/python3.6/site-packages (from requests<3.0.0dev,>=2.18.0->google-cloud-storage->earthengine-api) (2.10)\nRequirement already satisfied, skipping upgrade: chardet<5,>=3.0.2 in /anaconda/envs/azureml_py36/lib/python3.6/site-packages (from requests<3.0.0dev,>=2.18.0->google-cloud-storage->earthengine-api) (4.0.0)\nRequirement already satisfied, skipping upgrade: pyasn1<0.5.0,>=0.4.6 in /anaconda/envs/azureml_py36/lib/python3.6/site-packages (from pyasn1-modules>=0.2.1->google-auth>=1.4.1->earthengine-api) (0.4.8)\n"
        }
      ],
      "execution_count": 4,
      "metadata": {
        "collapsed": true,
        "jupyter": {
          "source_hidden": false,
          "outputs_hidden": false
        },
        "nteract": {
          "transient": {
            "deleting": false
          }
        }
      }
    },
    {
      "cell_type": "code",
      "source": [
        "import ee\r\n",
        "ee.Authenticate()\r\n",
        "ee.Initialize()"
      ],
      "outputs": [
        {
          "output_type": "display_data",
          "data": {
            "text/plain": "<IPython.core.display.HTML object>",
            "text/html": "<p>To authorize access needed by Earth Engine, open the following\n        URL in a web browser and follow the instructions:</p>\n        <p><a href=https://accounts.google.com/o/oauth2/auth?client_id=517222506229-vsmmajv00ul0bs7p89v5m89qs8eb9359.apps.googleusercontent.com&scope=https%3A%2F%2Fwww.googleapis.com%2Fauth%2Fearthengine+https%3A%2F%2Fwww.googleapis.com%2Fauth%2Fdevstorage.full_control&redirect_uri=urn%3Aietf%3Awg%3Aoauth%3A2.0%3Aoob&response_type=code&code_challenge=JP5_5uPBRUF7NbQ7h5F7FZ9FSClVstmyJVySQ44vRhI&code_challenge_method=S256>https://accounts.google.com/o/oauth2/auth?client_id=517222506229-vsmmajv00ul0bs7p89v5m89qs8eb9359.apps.googleusercontent.com&scope=https%3A%2F%2Fwww.googleapis.com%2Fauth%2Fearthengine+https%3A%2F%2Fwww.googleapis.com%2Fauth%2Fdevstorage.full_control&redirect_uri=urn%3Aietf%3Awg%3Aoauth%3A2.0%3Aoob&response_type=code&code_challenge=JP5_5uPBRUF7NbQ7h5F7FZ9FSClVstmyJVySQ44vRhI&code_challenge_method=S256</a></p>\n        <p>The authorization workflow will generate a code, which you\n        should paste in the box below</p>\n        "
          },
          "metadata": {}
        },
        {
          "output_type": "stream",
          "name": "stdout",
          "text": "\nSuccessfully saved authorization token.\n"
        }
      ],
      "execution_count": 9,
      "metadata": {
        "collapsed": true,
        "jupyter": {
          "source_hidden": false,
          "outputs_hidden": false
        },
        "nteract": {
          "transient": {
            "deleting": false
          }
        },
        "gather": {
          "logged": 1635452289417
        }
      }
    },
    {
      "cell_type": "code",
      "source": [
        "import azureml.core\r\n",
        "from azureml.core import Experiment, Workspace, Dataset, Datastore, ScriptRunConfig, Model\r\n",
        "from azureml.core.environment import Environment\r\n",
        "from azureml.core.conda_dependencies import CondaDependencies\r\n",
        "\r\n",
        "import os\r\n",
        "import shutil\r\n",
        "import glob\r\n",
        "from os.path import join\r\n",
        "from sys import path\r\n",
        "\r\n",
        "import tensorflow as tf\r\n",
        "from tensorflow.python.keras import models\r\n",
        "\r\n",
        "import numpy as np\r\n",
        "import rasterio as rio\r\n",
        "import json\r\n",
        "\r\n",
        "# check core SDK version number\r\n",
        "\r\n",
        "print(\"Azure ML SDK Version: \", azureml.core.VERSION)"
      ],
      "outputs": [
        {
          "output_type": "stream",
          "name": "stdout",
          "text": "Azure ML SDK Version:  1.30.0\n"
        }
      ],
      "execution_count": 5,
      "metadata": {
        "collapsed": true,
        "jupyter": {
          "source_hidden": false,
          "outputs_hidden": false
        },
        "nteract": {
          "transient": {
            "deleting": false
          }
        },
        "gather": {
          "logged": 1635452258970
        }
      }
    },
    {
      "cell_type": "code",
      "source": [
        "# make sure we have the most current version of github repo\r\n",
        "%cd Satellite_ComputerVision\r\n",
        "!git pull\r\n",
        "%cd .."
      ],
      "outputs": [
        {
          "output_type": "stream",
          "name": "stdout",
          "text": "/mnt/batch/tasks/shared/LS_root/mounts/clusters/mevans1/code/Users/mevans/Satellite_ComputerVision\nAlready up to date.\n/mnt/batch/tasks/shared/LS_root/mounts/clusters/mevans1/code/Users/mevans\n"
        }
      ],
      "execution_count": 6,
      "metadata": {
        "collapsed": true,
        "jupyter": {
          "source_hidden": false,
          "outputs_hidden": false
        },
        "nteract": {
          "transient": {
            "deleting": false
          }
        },
        "gather": {
          "logged": 1635452266214
        }
      }
    },
    {
      "cell_type": "code",
      "source": [
        "# attach our utilities folder to the path to import modules\r\n",
        "path.append('/home/azureuser/cloudfiles/code/Users/mevans/Satellite_ComputerVision')"
      ],
      "outputs": [],
      "execution_count": 7,
      "metadata": {
        "collapsed": true,
        "jupyter": {
          "source_hidden": false,
          "outputs_hidden": false
        },
        "nteract": {
          "transient": {
            "deleting": false
          }
        },
        "gather": {
          "logged": 1635452267662
        }
      }
    },
    {
      "cell_type": "code",
      "source": [
        "from utils.model_tools import get_model, make_confusion_matrix, weighted_bce\r\n",
        "from utils.processing import get_training_dataset, normalize\r\n",
        "from utils.prediction_tools import makePredDataset, make_array_predictions, get_img_bounds\r\n",
        "from utils.clouds import basicQA"
      ],
      "outputs": [],
      "execution_count": 10,
      "metadata": {
        "collapsed": true,
        "jupyter": {
          "source_hidden": false,
          "outputs_hidden": false
        },
        "nteract": {
          "transient": {
            "deleting": false
          }
        },
        "gather": {
          "logged": 1635452321660
        }
      }
    },
    {
      "cell_type": "code",
      "source": [
        "# load workspace configuration from the config.json file in the current folder.\r\n",
        "ws = Workspace.from_config()\r\n",
        "# get metadata about the workspace\r\n",
        "print(ws.name, ws.location, ws.resource_group, sep='\\t')\r\n",
        "# list the registered datastores\r\n",
        "ws.datastores"
      ],
      "outputs": [
        {
          "output_type": "stream",
          "name": "stdout",
          "text": "solar-compviz\teastus2\tplace\n"
        },
        {
          "output_type": "execute_result",
          "execution_count": 11,
          "data": {
            "text/plain": "{'workspaceartifactstore': {\n   \"name\": \"workspaceartifactstore\",\n   \"container_name\": \"azureml\",\n   \"account_name\": \"solarcompviz6161005396\",\n   \"protocol\": \"https\",\n   \"endpoint\": \"core.windows.net\"\n },\n 'solardatafilestore': {\n   \"name\": \"solardatafilestore\",\n   \"container_name\": \"gee-data\",\n   \"account_name\": \"solarcompviz6161005396\",\n   \"protocol\": \"https\",\n   \"endpoint\": \"core.windows.net\"\n },\n 'workspaceblobstore': {\n   \"name\": \"workspaceblobstore\",\n   \"container_name\": \"azureml-blobstore-20200d5f-4836-4a79-bf1c-7bd46e0d0c35\",\n   \"account_name\": \"solarcompviz6161005396\",\n   \"protocol\": \"https\",\n   \"endpoint\": \"core.windows.net\"\n },\n 'workspacefilestore': {\n   \"name\": \"workspacefilestore\",\n   \"container_name\": \"azureml-filestore-20200d5f-4836-4a79-bf1c-7bd46e0d0c35\",\n   \"account_name\": \"solarcompviz6161005396\",\n   \"protocol\": \"https\",\n   \"endpoint\": \"core.windows.net\"\n }}"
          },
          "metadata": {}
        }
      ],
      "execution_count": 11,
      "metadata": {
        "collapsed": true,
        "jupyter": {
          "source_hidden": false,
          "outputs_hidden": false
        },
        "nteract": {
          "transient": {
            "deleting": false
          }
        },
        "gather": {
          "logged": 1635452324756
        }
      }
    },
    {
      "cell_type": "code",
      "source": [
        "# access our registered data share containing image data in this workspace\r\n",
        "datastore = Datastore.get(workspace = ws, datastore_name = 'solardatafilestore')\r\n",
        "\r\n"
      ],
      "outputs": [],
      "execution_count": null,
      "metadata": {
        "jupyter": {
          "source_hidden": false,
          "outputs_hidden": false
        },
        "nteract": {
          "transient": {
            "deleting": false
          }
        },
        "gather": {
          "logged": 1635452326097
        }
      }
    },
    {
      "cell_type": "code",
      "source": [
        "experiment_name = 'solar-nc-cpk'\r\n",
        "exp = Experiment(workspace = ws, name = experiment_name)"
      ],
      "outputs": [],
      "execution_count": 16,
      "metadata": {
        "jupyter": {
          "source_hidden": false,
          "outputs_hidden": false
        },
        "nteract": {
          "transient": {
            "deleting": false
          }
        },
        "gather": {
          "logged": 1635453648014
        }
      }
    },
    {
      "cell_type": "code",
      "source": [
        "run_id = 'solar-nc-cpk_1625110549_258bbfea'\r\n",
        "\r\n",
        "run = ws.get_run(run_id)\r\n",
        "\r\n",
        "run.tags\r\n",
        "\r\n",
        "model_name = 'solar'"
      ],
      "outputs": [],
      "execution_count": 17,
      "metadata": {
        "jupyter": {
          "source_hidden": false,
          "outputs_hidden": false
        },
        "nteract": {
          "transient": {
            "deleting": false
          }
        },
        "gather": {
          "logged": 1635453649701
        }
      }
    },
    {
      "cell_type": "code",
      "source": [
        "# if we haven't already registered our model\r\n",
        "model = run.register_model(model_name= model_name,\r\n",
        "                           tags=run.tags,\r\n",
        "                           description = 'UNET model delineating anthropogenic change in pairs of Sentinel-2 imagery',\r\n",
        "                           model_path='outputs/',\r\n",
        "                           model_framework = 'Tensorflow',\r\n",
        "                           model_framework_version= '2.0',\r\n",
        "                           datasets = [('training', train_dataset), ('evaluation', eval_dataset), ('testing', test_dataset)])\r\n",
        "print(model.name, model.id, model.version, sep='\\t')"
      ],
      "outputs": [],
      "execution_count": null,
      "metadata": {
        "jupyter": {
          "source_hidden": false,
          "outputs_hidden": false
        },
        "nteract": {
          "transient": {
            "deleting": false
          }
        }
      }
    },
    {
      "cell_type": "code",
      "source": [
        "model = Model(ws, model_name)\r\n",
        "model_path = model.get_model_path(model_name, _workspace = ws)"
      ],
      "outputs": [],
      "execution_count": 18,
      "metadata": {
        "jupyter": {
          "source_hidden": false,
          "outputs_hidden": false
        },
        "nteract": {
          "transient": {
            "deleting": false
          }
        },
        "gather": {
          "logged": 1635453702537
        }
      }
    },
    {
      "cell_type": "code",
      "source": [
        "model_dir = Model.get_model_path(model_name)\r\n",
        "weights_path = glob.glob(os.path.join(model_dir, '*.hdf5'))\r\n",
        "model_path = glob.glob(os.path.join(model_dir, '*.h5'))\r\n",
        "weights_path\r\n",
        "model_path"
      ],
      "outputs": [
        {
          "output_type": "execute_result",
          "execution_count": 19,
          "data": {
            "text/plain": "['azureml-models/solar/1/outputs/unet256.h5']"
          },
          "metadata": {}
        }
      ],
      "execution_count": 19,
      "metadata": {
        "jupyter": {
          "source_hidden": false,
          "outputs_hidden": false
        },
        "nteract": {
          "transient": {
            "deleting": false
          }
        },
        "gather": {
          "logged": 1635453706525
        }
      }
    },
    {
      "cell_type": "code",
      "source": [
        "def get_weighted_bce(y_true,y_pred):\r\n",
        "  return weighted_bce(y_true, y_pred, 1)\r\n",
        "m = models.load_model(f'{model_path[0]}', custom_objects = {'get_weighted_bce': get_weighted_bce})\r\n",
        "# m = get_model(depth = DEPTH, optim = OPTIMIZER, loss = get_weighted_bce, mets = METRICS, bias = None)\r\n",
        "m.load_weights(f'{weights_path[0]}')"
      ],
      "outputs": [
        {
          "output_type": "error",
          "ename": "ValueError",
          "evalue": "Unknown layer: Functional",
          "traceback": [
            "\u001b[0;31m---------------------------------------------------------------------------\u001b[0m",
            "\u001b[0;31mValueError\u001b[0m                                Traceback (most recent call last)",
            "\u001b[0;32m<ipython-input-20-f2b5006efff2>\u001b[0m in \u001b[0;36m<module>\u001b[0;34m\u001b[0m\n\u001b[1;32m      1\u001b[0m \u001b[0;32mdef\u001b[0m \u001b[0mget_weighted_bce\u001b[0m\u001b[0;34m(\u001b[0m\u001b[0my_true\u001b[0m\u001b[0;34m,\u001b[0m\u001b[0my_pred\u001b[0m\u001b[0;34m)\u001b[0m\u001b[0;34m:\u001b[0m\u001b[0;34m\u001b[0m\u001b[0;34m\u001b[0m\u001b[0m\n\u001b[1;32m      2\u001b[0m   \u001b[0;32mreturn\u001b[0m \u001b[0mweighted_bce\u001b[0m\u001b[0;34m(\u001b[0m\u001b[0my_true\u001b[0m\u001b[0;34m,\u001b[0m \u001b[0my_pred\u001b[0m\u001b[0;34m,\u001b[0m \u001b[0;36m1\u001b[0m\u001b[0;34m)\u001b[0m\u001b[0;34m\u001b[0m\u001b[0;34m\u001b[0m\u001b[0m\n\u001b[0;32m----> 3\u001b[0;31m \u001b[0mm\u001b[0m \u001b[0;34m=\u001b[0m \u001b[0mmodels\u001b[0m\u001b[0;34m.\u001b[0m\u001b[0mload_model\u001b[0m\u001b[0;34m(\u001b[0m\u001b[0;34mf'{model_path[0]}'\u001b[0m\u001b[0;34m,\u001b[0m \u001b[0mcustom_objects\u001b[0m \u001b[0;34m=\u001b[0m \u001b[0;34m{\u001b[0m\u001b[0;34m'get_weighted_bce'\u001b[0m\u001b[0;34m:\u001b[0m \u001b[0mget_weighted_bce\u001b[0m\u001b[0;34m}\u001b[0m\u001b[0;34m)\u001b[0m\u001b[0;34m\u001b[0m\u001b[0;34m\u001b[0m\u001b[0m\n\u001b[0m\u001b[1;32m      4\u001b[0m \u001b[0;31m# m = get_model(depth = DEPTH, optim = OPTIMIZER, loss = get_weighted_bce, mets = METRICS, bias = None)\u001b[0m\u001b[0;34m\u001b[0m\u001b[0;34m\u001b[0m\u001b[0;34m\u001b[0m\u001b[0m\n\u001b[1;32m      5\u001b[0m \u001b[0mm\u001b[0m\u001b[0;34m.\u001b[0m\u001b[0mload_weights\u001b[0m\u001b[0;34m(\u001b[0m\u001b[0;34mf'{weights_path[0]}'\u001b[0m\u001b[0;34m)\u001b[0m\u001b[0;34m\u001b[0m\u001b[0;34m\u001b[0m\u001b[0m\n",
            "\u001b[0;32m/anaconda/envs/azureml_py36/lib/python3.6/site-packages/tensorflow_core/python/keras/saving/save.py\u001b[0m in \u001b[0;36mload_model\u001b[0;34m(filepath, custom_objects, compile)\u001b[0m\n\u001b[1;32m    144\u001b[0m   if (h5py is not None and (\n\u001b[1;32m    145\u001b[0m       isinstance(filepath, h5py.File) or h5py.is_hdf5(filepath))):\n\u001b[0;32m--> 146\u001b[0;31m     \u001b[0;32mreturn\u001b[0m \u001b[0mhdf5_format\u001b[0m\u001b[0;34m.\u001b[0m\u001b[0mload_model_from_hdf5\u001b[0m\u001b[0;34m(\u001b[0m\u001b[0mfilepath\u001b[0m\u001b[0;34m,\u001b[0m \u001b[0mcustom_objects\u001b[0m\u001b[0;34m,\u001b[0m \u001b[0mcompile\u001b[0m\u001b[0;34m)\u001b[0m\u001b[0;34m\u001b[0m\u001b[0;34m\u001b[0m\u001b[0m\n\u001b[0m\u001b[1;32m    147\u001b[0m \u001b[0;34m\u001b[0m\u001b[0m\n\u001b[1;32m    148\u001b[0m   \u001b[0;32mif\u001b[0m \u001b[0misinstance\u001b[0m\u001b[0;34m(\u001b[0m\u001b[0mfilepath\u001b[0m\u001b[0;34m,\u001b[0m \u001b[0msix\u001b[0m\u001b[0;34m.\u001b[0m\u001b[0mstring_types\u001b[0m\u001b[0;34m)\u001b[0m\u001b[0;34m:\u001b[0m\u001b[0;34m\u001b[0m\u001b[0;34m\u001b[0m\u001b[0m\n",
            "\u001b[0;32m/anaconda/envs/azureml_py36/lib/python3.6/site-packages/tensorflow_core/python/keras/saving/hdf5_format.py\u001b[0m in \u001b[0;36mload_model_from_hdf5\u001b[0;34m(filepath, custom_objects, compile)\u001b[0m\n\u001b[1;32m    166\u001b[0m     \u001b[0mmodel_config\u001b[0m \u001b[0;34m=\u001b[0m \u001b[0mjson\u001b[0m\u001b[0;34m.\u001b[0m\u001b[0mloads\u001b[0m\u001b[0;34m(\u001b[0m\u001b[0mmodel_config\u001b[0m\u001b[0;34m.\u001b[0m\u001b[0mdecode\u001b[0m\u001b[0;34m(\u001b[0m\u001b[0;34m'utf-8'\u001b[0m\u001b[0;34m)\u001b[0m\u001b[0;34m)\u001b[0m\u001b[0;34m\u001b[0m\u001b[0;34m\u001b[0m\u001b[0m\n\u001b[1;32m    167\u001b[0m     model = model_config_lib.model_from_config(model_config,\n\u001b[0;32m--> 168\u001b[0;31m                                                custom_objects=custom_objects)\n\u001b[0m\u001b[1;32m    169\u001b[0m \u001b[0;34m\u001b[0m\u001b[0m\n\u001b[1;32m    170\u001b[0m     \u001b[0;31m# set weights\u001b[0m\u001b[0;34m\u001b[0m\u001b[0;34m\u001b[0m\u001b[0;34m\u001b[0m\u001b[0m\n",
            "\u001b[0;32m/anaconda/envs/azureml_py36/lib/python3.6/site-packages/tensorflow_core/python/keras/saving/model_config.py\u001b[0m in \u001b[0;36mmodel_from_config\u001b[0;34m(config, custom_objects)\u001b[0m\n\u001b[1;32m     53\u001b[0m                     '`Sequential.from_config(config)`?')\n\u001b[1;32m     54\u001b[0m   \u001b[0;32mfrom\u001b[0m \u001b[0mtensorflow\u001b[0m\u001b[0;34m.\u001b[0m\u001b[0mpython\u001b[0m\u001b[0;34m.\u001b[0m\u001b[0mkeras\u001b[0m\u001b[0;34m.\u001b[0m\u001b[0mlayers\u001b[0m \u001b[0;32mimport\u001b[0m \u001b[0mdeserialize\u001b[0m  \u001b[0;31m# pylint: disable=g-import-not-at-top\u001b[0m\u001b[0;34m\u001b[0m\u001b[0;34m\u001b[0m\u001b[0m\n\u001b[0;32m---> 55\u001b[0;31m   \u001b[0;32mreturn\u001b[0m \u001b[0mdeserialize\u001b[0m\u001b[0;34m(\u001b[0m\u001b[0mconfig\u001b[0m\u001b[0;34m,\u001b[0m \u001b[0mcustom_objects\u001b[0m\u001b[0;34m=\u001b[0m\u001b[0mcustom_objects\u001b[0m\u001b[0;34m)\u001b[0m\u001b[0;34m\u001b[0m\u001b[0;34m\u001b[0m\u001b[0m\n\u001b[0m\u001b[1;32m     56\u001b[0m \u001b[0;34m\u001b[0m\u001b[0m\n\u001b[1;32m     57\u001b[0m \u001b[0;34m\u001b[0m\u001b[0m\n",
            "\u001b[0;32m/anaconda/envs/azureml_py36/lib/python3.6/site-packages/tensorflow_core/python/keras/layers/serialization.py\u001b[0m in \u001b[0;36mdeserialize\u001b[0;34m(config, custom_objects)\u001b[0m\n\u001b[1;32m    104\u001b[0m       \u001b[0mmodule_objects\u001b[0m\u001b[0;34m=\u001b[0m\u001b[0mglobs\u001b[0m\u001b[0;34m,\u001b[0m\u001b[0;34m\u001b[0m\u001b[0;34m\u001b[0m\u001b[0m\n\u001b[1;32m    105\u001b[0m       \u001b[0mcustom_objects\u001b[0m\u001b[0;34m=\u001b[0m\u001b[0mcustom_objects\u001b[0m\u001b[0;34m,\u001b[0m\u001b[0;34m\u001b[0m\u001b[0;34m\u001b[0m\u001b[0m\n\u001b[0;32m--> 106\u001b[0;31m       printable_module_name='layer')\n\u001b[0m",
            "\u001b[0;32m/anaconda/envs/azureml_py36/lib/python3.6/site-packages/tensorflow_core/python/keras/utils/generic_utils.py\u001b[0m in \u001b[0;36mdeserialize_keras_object\u001b[0;34m(identifier, module_objects, custom_objects, printable_module_name)\u001b[0m\n\u001b[1;32m    290\u001b[0m     \u001b[0mconfig\u001b[0m \u001b[0;34m=\u001b[0m \u001b[0midentifier\u001b[0m\u001b[0;34m\u001b[0m\u001b[0;34m\u001b[0m\u001b[0m\n\u001b[1;32m    291\u001b[0m     (cls, cls_config) = class_and_config_for_serialized_keras_object(\n\u001b[0;32m--> 292\u001b[0;31m         config, module_objects, custom_objects, printable_module_name)\n\u001b[0m\u001b[1;32m    293\u001b[0m \u001b[0;34m\u001b[0m\u001b[0m\n\u001b[1;32m    294\u001b[0m     \u001b[0;32mif\u001b[0m \u001b[0mhasattr\u001b[0m\u001b[0;34m(\u001b[0m\u001b[0mcls\u001b[0m\u001b[0;34m,\u001b[0m \u001b[0;34m'from_config'\u001b[0m\u001b[0;34m)\u001b[0m\u001b[0;34m:\u001b[0m\u001b[0;34m\u001b[0m\u001b[0;34m\u001b[0m\u001b[0m\n",
            "\u001b[0;32m/anaconda/envs/azureml_py36/lib/python3.6/site-packages/tensorflow_core/python/keras/utils/generic_utils.py\u001b[0m in \u001b[0;36mclass_and_config_for_serialized_keras_object\u001b[0;34m(config, module_objects, custom_objects, printable_module_name)\u001b[0m\n\u001b[1;32m    248\u001b[0m     \u001b[0mcls\u001b[0m \u001b[0;34m=\u001b[0m \u001b[0mmodule_objects\u001b[0m\u001b[0;34m.\u001b[0m\u001b[0mget\u001b[0m\u001b[0;34m(\u001b[0m\u001b[0mclass_name\u001b[0m\u001b[0;34m)\u001b[0m\u001b[0;34m\u001b[0m\u001b[0;34m\u001b[0m\u001b[0m\n\u001b[1;32m    249\u001b[0m     \u001b[0;32mif\u001b[0m \u001b[0mcls\u001b[0m \u001b[0;32mis\u001b[0m \u001b[0;32mNone\u001b[0m\u001b[0;34m:\u001b[0m\u001b[0;34m\u001b[0m\u001b[0;34m\u001b[0m\u001b[0m\n\u001b[0;32m--> 250\u001b[0;31m       \u001b[0;32mraise\u001b[0m \u001b[0mValueError\u001b[0m\u001b[0;34m(\u001b[0m\u001b[0;34m'Unknown '\u001b[0m \u001b[0;34m+\u001b[0m \u001b[0mprintable_module_name\u001b[0m \u001b[0;34m+\u001b[0m \u001b[0;34m': '\u001b[0m \u001b[0;34m+\u001b[0m \u001b[0mclass_name\u001b[0m\u001b[0;34m)\u001b[0m\u001b[0;34m\u001b[0m\u001b[0;34m\u001b[0m\u001b[0m\n\u001b[0m\u001b[1;32m    251\u001b[0m \u001b[0;34m\u001b[0m\u001b[0m\n\u001b[1;32m    252\u001b[0m   \u001b[0mcls_config\u001b[0m \u001b[0;34m=\u001b[0m \u001b[0mconfig\u001b[0m\u001b[0;34m[\u001b[0m\u001b[0;34m'config'\u001b[0m\u001b[0;34m]\u001b[0m\u001b[0;34m\u001b[0m\u001b[0;34m\u001b[0m\u001b[0m\n",
            "\u001b[0;31mValueError\u001b[0m: Unknown layer: Functional"
          ]
        }
      ],
      "execution_count": 20,
      "metadata": {
        "jupyter": {
          "source_hidden": false,
          "outputs_hidden": false
        },
        "nteract": {
          "transient": {
            "deleting": false
          }
        }
      }
    },
    {
      "cell_type": "code",
      "source": [
        "# Create mountcontext and mount the dataset\r\n",
        "aoi = 'testpred1'\r\n",
        "\r\n",
        "cpk_test_path = (datastore, f'CPK_solar/predict/{aoi}')\r\n",
        "\r\n",
        "cpk_test_dataset = Dataset.File.from_files(path = [cpk_test_path])\r\n",
        "\r\n",
        "testFiles = []\r\n",
        "\r\n",
        "# open access to the mount point\r\n",
        "with cpk_test_dataset.mount() as mount:\r\n",
        "\r\n",
        "    # Get the mount point\r\n",
        "    dataset_mount_folder = mount.mount_point\r\n",
        "    print(dataset_mount_folder)\r\n",
        "\r\n",
        "    for root, dirs, files in os.walk(dataset_mount_folder):\r\n",
        "        for f in files:\r\n",
        "            testFiles.append(join(root, f))"
      ],
      "outputs": [
        {
          "output_type": "stream",
          "name": "stdout",
          "text": "/tmp/tmpgtrivbk8\n"
        }
      ],
      "execution_count": 28,
      "metadata": {
        "jupyter": {
          "source_hidden": false,
          "outputs_hidden": false
        },
        "nteract": {
          "transient": {
            "deleting": false
          }
        },
        "gather": {
          "logged": 1635451709518
        }
      }
    },
    {
      "cell_type": "code",
      "source": [
        "# Define some global variabes\r\n",
        "\r\n",
        "BANDS = ['B2', 'B3', 'B4', 'B8', 'B2_1', 'B3_1', 'B4_1', 'B8_1']\r\n",
        "RESPONSE = 'change'\r\n",
        "FEATURES = BANDS + [RESPONSE]\r\n",
        "print(FEATURES)\r\n",
        "DEPTH = len(FEATURES)\r\n",
        "\r\n",
        "# Specify the size and shape of patches expected by the model.\r\n",
        "KERNEL_SIZE = 256\r\n",
        "KERNEL_SHAPE = [KERNEL_SIZE, KERNEL_SIZE]\r\n",
        "COLUMNS = [\r\n",
        "  tf.io.FixedLenFeature(shape=KERNEL_SHAPE, dtype=tf.float32) for k in FEATURES\r\n",
        "]\r\n",
        "FEATURES_DICT = dict(zip(FEATURES, COLUMNS))\r\n",
        "\r\n",
        "OPTIMIZER = tf.keras.optimizers.Adam(learning_rate=0.0001, beta_1=0.9, beta_2=0.999)\r\n",
        "\r\n",
        "METRICS = {\r\n",
        "    'logits':[tf.keras.metrics.MeanSquaredError(name='mse'), tf.keras.metrics.Precision(name='precision'), tf.keras.metrics.Recall(name='recall')],\r\n",
        "    'classes':[tf.keras.metrics.MeanIoU(num_classes=2, name = 'mean_iou')]\r\n",
        "    }"
      ],
      "outputs": [
        {
          "output_type": "stream",
          "name": "stdout",
          "text": "['B2', 'B3', 'B4', 'B8', 'B2_1', 'B3_1', 'B4_1', 'B8_1', 'change']\n"
        }
      ],
      "execution_count": 27,
      "metadata": {
        "jupyter": {
          "source_hidden": false,
          "outputs_hidden": false
        },
        "nteract": {
          "transient": {
            "deleting": false
          }
        },
        "gather": {
          "logged": 1635451215300
        }
      }
    },
    {
      "cell_type": "code",
      "source": [
        "predFiles = glob.glob(os.path.join(dataset_mount_folder, '*.gz'))\r\n",
        "predFiles"
      ],
      "outputs": [],
      "execution_count": null,
      "metadata": {
        "jupyter": {
          "source_hidden": false,
          "outputs_hidden": false
        },
        "nteract": {
          "transient": {
            "deleting": false
          }
        }
      }
    },
    {
      "cell_type": "code",
      "source": [
        "jsonFiles = [x for x in testFiles if '.json' in x]\r\n",
        "jsonFiles\r\n",
        "jsonFile = jsonFiles[0]"
      ],
      "outputs": [],
      "execution_count": null,
      "metadata": {
        "jupyter": {
          "source_hidden": false,
          "outputs_hidden": false
        },
        "nteract": {
          "transient": {
            "deleting": false
          }
        }
      }
    },
    {
      "cell_type": "code",
      "source": [
        "predData = makePredDataset(predFiles, BANDS, one_hot = None)\r\n",
        "iterator = iter(predData)\r\n",
        "print(iterator.next())"
      ],
      "outputs": [],
      "execution_count": null,
      "metadata": {
        "jupyter": {
          "source_hidden": false,
          "outputs_hidden": false
        },
        "nteract": {
          "transient": {
            "deleting": false
          }
        }
      }
    },
    {
      "cell_type": "code",
      "source": [
        "preds = make_array_predictions(imageDataset = predData, model = m, jsonFile = jsonFile)"
      ],
      "outputs": [],
      "execution_count": null,
      "metadata": {
        "jupyter": {
          "source_hidden": false,
          "outputs_hidden": false
        },
        "nteract": {
          "transient": {
            "deleting": false
          }
        }
      }
    },
    {
      "cell_type": "code",
      "source": [
        "# We can visualize the predictions here in the notebook\r\n",
        "from matplotlib import pyplot as plt\r\n",
        "from matplotlib import colors\r\n",
        "\r\n",
        "figure = plt.figure(figsize = (12,12))\r\n",
        "# cmap = colors.ListedColormap(['#5dc5f1', '#50a886', '#3d6e1d', '#80e144', '#bafb85', '#d4a13e', \"#e73522\", \"#9c9c9c\", \"#000000\", \"#706e22\", \"#e7e64b\", \"#fefc86\", '#ad36ed'])\r\n",
        "prob = preds[:, :, 0]\r\n",
        "# cls = out_image[:, :, 0]\r\n",
        "\r\n",
        "plt.imshow(prob)#, norm = colors.BoundaryNorm([1,2,3,4,5,6,7,8,9,10,11,12,13,14,15], cmap.N), cmap = cmap)"
      ],
      "outputs": [],
      "execution_count": null,
      "metadata": {
        "jupyter": {
          "source_hidden": false,
          "outputs_hidden": false
        },
        "nteract": {
          "transient": {
            "deleting": false
          }
        }
      }
    },
    {
      "cell_type": "code",
      "source": [
        "# Folium setup.\r\n",
        "import folium\r\n",
        "print(folium.__version__)\r\n",
        "\r\n",
        "# Define a method for displaying Earth Engine image tiles to a folium map.\r\n",
        "def add_ee_layer(self, ee_image_object, vis_params, name):\r\n",
        "  map_id_dict = ee.Image(ee_image_object).getMapId(vis_params)\r\n",
        "  folium.raster_layers.TileLayer(\r\n",
        "    tiles = map_id_dict['tile_fetcher'].url_format,\r\n",
        "    attr = \"Map Data © Google Earth Engine\",\r\n",
        "    name = name,\r\n",
        "    overlay = True,\r\n",
        "    control = True\r\n",
        "  ).add_to(self)\r\n",
        "\r\n",
        "# Add EE drawing method to folium.\r\n",
        "folium.Map.add_ee_layer = add_ee_layer"
      ],
      "outputs": [],
      "execution_count": null,
      "metadata": {
        "jupyter": {
          "source_hidden": false,
          "outputs_hidden": false
        },
        "nteract": {
          "transient": {
            "deleting": false
          }
        }
      }
    }
  ],
  "metadata": {
    "kernelspec": {
      "name": "python3-azureml",
      "language": "python",
      "display_name": "Python 3.6 - AzureML"
    },
    "language_info": {
      "name": "python",
      "version": "3.6.9",
      "mimetype": "text/x-python",
      "codemirror_mode": {
        "name": "ipython",
        "version": 3
      },
      "pygments_lexer": "ipython3",
      "nbconvert_exporter": "python",
      "file_extension": ".py"
    },
    "nteract": {
      "version": "nteract-front-end@1.0.0"
    },
    "kernel_info": {
      "name": "python3-azureml"
    }
  },
  "nbformat": 4,
  "nbformat_minor": 2
}