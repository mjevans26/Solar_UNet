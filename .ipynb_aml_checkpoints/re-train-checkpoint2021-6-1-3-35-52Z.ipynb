{
  "cells": [
    {
      "cell_type": "code",
      "source": [
        "from azureml.core import Experiment, Environment, Workspace, Datastore, Dataset, Model, ScriptRunConfig\r\n",
        "import os\r\n",
        "import glob\r\n",
        "# get the current workspace\r\n",
        "ws = Workspace.from_config()"
      ],
      "outputs": [],
      "execution_count": 33,
      "metadata": {
        "gather": {
          "logged": 1625109991302
        }
      }
    },
    {
      "cell_type": "code",
      "source": [
        "%cd Satellite_ComputerVision\r\n",
        "!git pull\r\n",
        "%cd .."
      ],
      "outputs": [
        {
          "output_type": "stream",
          "name": "stdout",
          "text": [
            "Already up-to-date.\r\n",
            "/mnt/batch/tasks/shared/LS_root/mounts/clusters/test-compute-instance/code/Users/mevans\n"
          ]
        }
      ],
      "execution_count": 18,
      "metadata": {
        "collapsed": true,
        "jupyter": {
          "source_hidden": false,
          "outputs_hidden": false
        },
        "nteract": {
          "transient": {
            "deleting": false
          }
        }
      }
    },
    {
      "cell_type": "code",
      "source": [
        "# access our registered data share containing image data in this workspace\r\n",
        "datastore = Datastore.get(workspace = ws, datastore_name = 'solardatafilestore')\r\n",
        "\r\n",
        "cpk_train_path = (datastore, 'CPK_solar/training/')\r\n",
        "cpk_eval_path = (datastore, 'CPK_solar/eval/')\r\n",
        "\r\n",
        "nc_train_path = (datastore, 'NC_solar/training/')\r\n",
        "nc_eval_path = (datastore, 'NC_solar/eval/')\r\n",
        "\r\n",
        "test_path = (datastore, 'CPK_solar/predict/testpred6')\r\n",
        "\r\n",
        "cpk_train_dataset = Dataset.File.from_files(path = [cpk_train_path])\r\n",
        "cpk_eval_dataset = Dataset.File.from_files(path = [cpk_eval_path])\r\n",
        "\r\n",
        "nc_train_dataset = Dataset.File.from_files(path = [nc_train_path])\r\n",
        "nc_eval_dataset = Dataset.File.from_files(path = [nc_eval_path])\r\n",
        "\r\n",
        "# when we combine datasets the selected directories and relative paths to the datastore are brought in\r\n",
        "# mount folder\r\n",
        "# |-cddatafilestore\r\n",
        "# | |-GEE\r\n",
        "# | | |-training\r\n",
        "# | | |-eval\r\n",
        "# | |-Onera\r\n",
        "# | | |-training\r\n",
        "# | | |-eval\r\n",
        "train_dataset = Dataset.File.from_files(path = [cpk_train_path, nc_train_path])\r\n",
        "eval_dataset = Dataset.File.from_files(path = [cpk_eval_path, nc_eval_path])\r\n",
        "test_dataset = Dataset.File.from_files(path = [test_path])"
      ],
      "outputs": [],
      "execution_count": 34,
      "metadata": {
        "collapsed": true,
        "jupyter": {
          "source_hidden": false,
          "outputs_hidden": false
        },
        "nteract": {
          "transient": {
            "deleting": false
          }
        },
        "gather": {
          "logged": 1625109996930
        }
      }
    },
    {
      "cell_type": "code",
      "source": [
        "# FInd the run corresponding to the model we want to register\r\n",
        "run_id = 'solar-nc-cpk_1624989679_f59da7cf'\r\n",
        "\r\n",
        "run = ws.get_run(run_id)"
      ],
      "outputs": [],
      "execution_count": 35,
      "metadata": {
        "collapsed": true,
        "jupyter": {
          "source_hidden": false,
          "outputs_hidden": false
        },
        "nteract": {
          "transient": {
            "deleting": false
          }
        },
        "gather": {
          "logged": 1625109997071
        }
      }
    },
    {
      "cell_type": "code",
      "source": [
        "model_name = 'solar'"
      ],
      "outputs": [],
      "execution_count": 36,
      "metadata": {
        "collapsed": true,
        "jupyter": {
          "source_hidden": false,
          "outputs_hidden": false
        },
        "nteract": {
          "transient": {
            "deleting": false
          }
        },
        "gather": {
          "logged": 1625109997984
        }
      }
    },
    {
      "cell_type": "code",
      "source": [
        "model = run.register_model(model_name=model_name,\r\n",
        "                           tags=run.tags,\r\n",
        "                           description = 'UNET model delineating ground mounted solar arrays in S2 imagery. Trained on multi-season data from Chesapeake Bay and NC',\r\n",
        "                           model_path='outputs/',\r\n",
        "                           model_framework = 'Tensorflow',\r\n",
        "                           model_framework_version= '2.0',\r\n",
        "                           datasets = [('training', train_dataset), ('evaluation', eval_dataset), ('testing', test_dataset)])\r\n",
        "print(model.name, model.id, model.version, sep='\\t')"
      ],
      "outputs": [
        {
          "output_type": "stream",
          "name": "stdout",
          "text": [
            "solar\tsolar:1\t1\n"
          ]
        }
      ],
      "execution_count": 5,
      "metadata": {
        "collapsed": true,
        "jupyter": {
          "source_hidden": false,
          "outputs_hidden": false
        },
        "nteract": {
          "transient": {
            "deleting": false
          }
        },
        "gather": {
          "logged": 1625103322523
        }
      }
    },
    {
      "cell_type": "code",
      "source": [
        "# use the azure folder as our script folder\r\n",
        "source = 'Satellite_ComputerVision'\r\n",
        "util_folder = 'utils'\r\n",
        "script_folder = 'azure'\r\n",
        "script_file = 'train_solar.py'"
      ],
      "outputs": [],
      "execution_count": 37,
      "metadata": {
        "collapsed": true,
        "jupyter": {
          "source_hidden": false,
          "outputs_hidden": false
        },
        "nteract": {
          "transient": {
            "deleting": false
          }
        },
        "gather": {
          "logged": 1625109999756
        }
      }
    },
    {
      "cell_type": "code",
      "source": [
        "# get our environment\r\n",
        "envs = Environment.list(workspace = ws)\r\n",
        "env = envs.get('solar-training')"
      ],
      "outputs": [],
      "execution_count": 44,
      "metadata": {
        "collapsed": true,
        "jupyter": {
          "source_hidden": false,
          "outputs_hidden": false
        },
        "nteract": {
          "transient": {
            "deleting": false
          }
        },
        "gather": {
          "logged": 1625110529891
        }
      }
    },
    {
      "cell_type": "code",
      "source": [
        "# define the compute target\r\n",
        "compute_target = ws.compute_targets['mevans1']"
      ],
      "outputs": [],
      "execution_count": 39,
      "metadata": {
        "collapsed": true,
        "jupyter": {
          "source_hidden": false,
          "outputs_hidden": false
        },
        "nteract": {
          "transient": {
            "deleting": false
          }
        },
        "gather": {
          "logged": 1625110002812
        }
      }
    },
    {
      "cell_type": "code",
      "source": [
        "experiment_name = 'solar-nc-cpk'\r\n",
        "exp = Experiment(workspace = ws, name = experiment_name)"
      ],
      "outputs": [],
      "execution_count": 40,
      "metadata": {
        "collapsed": true,
        "jupyter": {
          "source_hidden": false,
          "outputs_hidden": false
        },
        "nteract": {
          "transient": {
            "deleting": false
          }
        },
        "gather": {
          "logged": 1625110004524
        }
      }
    },
    {
      "cell_type": "code",
      "source": [
        "args = [\r\n",
        "    '--train_data', train_dataset.as_mount(),\r\n",
        "    '--eval_data', eval_dataset.as_mount(),\r\n",
        "    '--test_data', test_dataset.as_mount(),\r\n",
        "    '--model_id', model_name,\r\n",
        "    '--weight', 0.8,\r\n",
        "    '-lr', 0.0005,\r\n",
        "    '--epochs', 100,\r\n",
        "    '--batch', 16,\r\n",
        "    '--size', 7755,\r\n",
        "    '--kernel_size', 256,\r\n",
        "    '--response', 'landcover']"
      ],
      "outputs": [],
      "execution_count": 46,
      "metadata": {
        "collapsed": true,
        "jupyter": {
          "source_hidden": false,
          "outputs_hidden": false
        },
        "nteract": {
          "transient": {
            "deleting": false
          }
        },
        "gather": {
          "logged": 1625110543873
        }
      }
    },
    {
      "cell_type": "code",
      "source": [
        "src = ScriptRunConfig(source_directory=script_folder,\r\n",
        "                      script=script_file, \r\n",
        "                      arguments=args,\r\n",
        "                      compute_target=compute_target,\r\n",
        "                      environment=env)"
      ],
      "outputs": [],
      "execution_count": 45,
      "metadata": {
        "collapsed": true,
        "jupyter": {
          "source_hidden": false,
          "outputs_hidden": false
        },
        "nteract": {
          "transient": {
            "deleting": false
          }
        },
        "gather": {
          "logged": 1625110541506
        }
      }
    },
    {
      "cell_type": "code",
      "source": [
        "#  run the training job\r\n",
        "run = exp.submit(config=src, tags = dict({'splits':'None', 'model':'Unet', 'dataset':'CPK+NC', 'normalization':'pixel', 'epochs':'100-200'}))\r\n",
        "run"
      ],
      "outputs": [],
      "execution_count": 47,
      "metadata": {
        "collapsed": true,
        "jupyter": {
          "source_hidden": false,
          "outputs_hidden": false
        },
        "nteract": {
          "transient": {
            "deleting": false
          }
        },
        "gather": {
          "logged": 1625110014105
        }
      }
    }
  ],
  "metadata": {
    "kernelspec": {
      "name": "python3-azureml",
      "language": "python",
      "display_name": "Python 3.6 - AzureML"
    },
    "language_info": {
      "name": "python",
      "version": "3.6.9",
      "mimetype": "text/x-python",
      "codemirror_mode": {
        "name": "ipython",
        "version": 3
      },
      "pygments_lexer": "ipython3",
      "nbconvert_exporter": "python",
      "file_extension": ".py"
    },
    "kernel_info": {
      "name": "python3-azureml"
    },
    "microsoft": {
      "host": {
        "AzureML": {
          "notebookHasBeenCompleted": true
        }
      }
    },
    "nteract": {
      "version": "nteract-front-end@1.0.0"
    }
  },
  "nbformat": 4,
  "nbformat_minor": 2
}